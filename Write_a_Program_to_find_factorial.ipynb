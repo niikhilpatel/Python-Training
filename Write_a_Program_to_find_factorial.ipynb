{
  "nbformat": 4,
  "nbformat_minor": 0,
  "metadata": {
    "colab": {
      "name": "Write a Program to find factorial.ipynb",
      "provenance": [],
      "collapsed_sections": [],
      "authorship_tag": "ABX9TyMqE0Mqf4XhXhEW/lfjwCL5",
      "include_colab_link": true
    },
    "kernelspec": {
      "name": "python3",
      "display_name": "Python 3"
    },
    "language_info": {
      "name": "python"
    }
  },
  "cells": [
    {
      "cell_type": "markdown",
      "metadata": {
        "id": "view-in-github",
        "colab_type": "text"
      },
      "source": [
        "<a href=\"https://colab.research.google.com/github/niikhilpatel/Python-Training/blob/main/Write_a_Program_to_find_factorial.ipynb\" target=\"_parent\"><img src=\"https://colab.research.google.com/assets/colab-badge.svg\" alt=\"Open In Colab\"/></a>"
      ]
    },
    {
      "cell_type": "code",
      "execution_count": null,
      "metadata": {
        "id": "jsXKbVFWdQ_g"
      },
      "outputs": [],
      "source": [
        "Write a Program to find factorial"
      ]
    },
    {
      "cell_type": "code",
      "source": [
        "a = int(input('Enter a Number : '))\n",
        "fact = 1\n",
        "for i in range(1,a+1):\n",
        "  fact *= i\n",
        "  print(fact)"
      ],
      "metadata": {
        "id": "G8nFz5sLdW08"
      },
      "execution_count": null,
      "outputs": []
    }
  ]
}