{
  "nbformat": 4,
  "nbformat_minor": 0,
  "metadata": {
    "colab": {
      "name": "Python Day 1.ipynb",
      "provenance": [],
      "collapsed_sections": [],
      "authorship_tag": "ABX9TyMwerVzgjgkxOQwnZOt/EKd",
      "include_colab_link": true
    },
    "kernelspec": {
      "name": "python3",
      "display_name": "Python 3"
    },
    "language_info": {
      "name": "python"
    }
  },
  "cells": [
    {
      "cell_type": "markdown",
      "metadata": {
        "id": "view-in-github",
        "colab_type": "text"
      },
      "source": [
        "<a href=\"https://colab.research.google.com/github/niikhilpatel/Python-Training/blob/main/Python_Day_1_ALL_PROGRAMS.ipynb\" target=\"_parent\"><img src=\"https://colab.research.google.com/assets/colab-badge.svg\" alt=\"Open In Colab\"/></a>"
      ]
    },
    {
      "cell_type": "code",
      "execution_count": null,
      "metadata": {
        "id": "rjR21HSNgU-7"
      },
      "outputs": [],
      "source": [
        "WAP to check prime number?"
      ]
    },
    {
      "cell_type": "code",
      "source": [
        "a = int(input('Enter A number: '))\n",
        "for i in range(2, a):\n",
        "  if a%i == 0 :\n",
        "    print(' Not Prime')\n",
        "    break\n",
        "  else:\n",
        "    Print('Prime')\n"
      ],
      "metadata": {
        "colab": {
          "base_uri": "https://localhost:8080/"
        },
        "id": "r5ErIYIKia6k",
        "outputId": "cc946496-e62e-4581-e59f-27039cc9e189"
      },
      "execution_count": 17,
      "outputs": [
        {
          "output_type": "stream",
          "name": "stdout",
          "text": [
            "Enter A number: 6\n",
            " Not Prime\n"
          ]
        }
      ]
    },
    {
      "cell_type": "markdown",
      "source": [
        "To install library in Jupyter Notebook"
      ],
      "metadata": {
        "id": "GalbiFPtobBY"
      }
    },
    {
      "cell_type": "code",
      "source": [
        "!pip install abhiprime"
      ],
      "metadata": {
        "colab": {
          "base_uri": "https://localhost:8080/"
        },
        "id": "Bgk5PQ5FogSY",
        "outputId": "4fd80bad-5ab4-4635-9b2e-f3fb4e024ec1"
      },
      "execution_count": 20,
      "outputs": [
        {
          "output_type": "stream",
          "name": "stdout",
          "text": [
            "Looking in indexes: https://pypi.org/simple, https://us-python.pkg.dev/colab-wheels/public/simple/\n",
            "Collecting abhiprime\n",
            "  Downloading abhiprime-6.0.0-py3-none-any.whl (3.7 kB)\n",
            "Installing collected packages: abhiprime\n",
            "Successfully installed abhiprime-6.0.0\n"
          ]
        }
      ]
    },
    {
      "cell_type": "markdown",
      "source": [
        "check the numbers using abhiprime library"
      ],
      "metadata": {
        "id": "ivY67MivpsHx"
      }
    },
    {
      "cell_type": "code",
      "source": [
        "import abhiprime as ap\n",
        "ap.test_prime(7)"
      ],
      "metadata": {
        "colab": {
          "base_uri": "https://localhost:8080/"
        },
        "id": "F3MNZDtEp9Tt",
        "outputId": "3e0733a4-6ecd-4818-9f09-8e27ed130e1c"
      },
      "execution_count": 22,
      "outputs": [
        {
          "output_type": "execute_result",
          "data": {
            "text/plain": [
              "1"
            ]
          },
          "metadata": {},
          "execution_count": 22
        }
      ]
    },
    {
      "cell_type": "code",
      "source": [
        "ap.prev_prime(100)"
      ],
      "metadata": {
        "colab": {
          "base_uri": "https://localhost:8080/"
        },
        "id": "a0azZSHRqTyp",
        "outputId": "3ee261cf-0294-4157-abf7-2f8eca637d75"
      },
      "execution_count": 23,
      "outputs": [
        {
          "output_type": "execute_result",
          "data": {
            "text/plain": [
              "97"
            ]
          },
          "metadata": {},
          "execution_count": 23
        }
      ]
    },
    {
      "cell_type": "code",
      "source": [
        "ap.fib_prime(100)"
      ],
      "metadata": {
        "colab": {
          "base_uri": "https://localhost:8080/"
        },
        "id": "Ds46XFzCqVwA",
        "outputId": "72dcbe3e-c173-4f13-f96a-8d9851e95d16"
      },
      "execution_count": 24,
      "outputs": [
        {
          "output_type": "stream",
          "name": "stdout",
          "text": [
            "2 3 5 13 89 "
          ]
        }
      ]
    },
    {
      "cell_type": "markdown",
      "source": [
        "TO print the two numbers 5 amd 4"
      ],
      "metadata": {
        "id": "cKk0tYJtssej"
      }
    },
    {
      "cell_type": "code",
      "source": [
        "a = 5\n",
        "b = 4\n",
        "print(a*b)"
      ],
      "metadata": {
        "colab": {
          "base_uri": "https://localhost:8080/"
        },
        "id": "doVoq9FZs6du",
        "outputId": "57c73f8f-a904-4452-a045-3b08e5dacd36"
      },
      "execution_count": 26,
      "outputs": [
        {
          "output_type": "stream",
          "name": "stdout",
          "text": [
            "20\n"
          ]
        }
      ]
    },
    {
      "cell_type": "markdown",
      "source": [
        "To multiply the two numbers "
      ],
      "metadata": {
        "id": "JpRUDuzrtPwo"
      }
    },
    {
      "cell_type": "code",
      "source": [
        "a = int(input('Enter 1st number : '))\n",
        "b = int(input('Enter 2st number : '))\n",
        "while (a and b) > 0:\n",
        "  c = a*b\n",
        "  print(a,'x',b,'=',c)\n",
        "  a -= 1\n",
        "  b -= 1\n",
        "  "
      ],
      "metadata": {
        "colab": {
          "base_uri": "https://localhost:8080/"
        },
        "id": "_460FV2wtQrw",
        "outputId": "b5d66952-cf24-4fb9-b9f8-e7eea18d8731"
      },
      "execution_count": 27,
      "outputs": [
        {
          "output_type": "stream",
          "name": "stdout",
          "text": [
            "Enter 1st number : 4\n",
            "Enter 2st number : 5\n",
            "4 x 5 = 20\n",
            "3 x 4 = 12\n",
            "2 x 3 = 6\n",
            "1 x 2 = 2\n"
          ]
        }
      ]
    }
  ]
}