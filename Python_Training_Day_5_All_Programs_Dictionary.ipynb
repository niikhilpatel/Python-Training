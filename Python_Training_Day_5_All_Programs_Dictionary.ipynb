{
  "nbformat": 4,
  "nbformat_minor": 0,
  "metadata": {
    "colab": {
      "name": "Python Training Day 5 All Programs.ipynb",
      "provenance": [],
      "collapsed_sections": [],
      "authorship_tag": "ABX9TyNNUmvw5+z4jC1a2orosjE7",
      "include_colab_link": true
    },
    "kernelspec": {
      "name": "python3",
      "display_name": "Python 3"
    },
    "language_info": {
      "name": "python"
    }
  },
  "cells": [
    {
      "cell_type": "markdown",
      "metadata": {
        "id": "view-in-github",
        "colab_type": "text"
      },
      "source": [
        "<a href=\"https://colab.research.google.com/github/niikhilpatel/Python-Training/blob/main/Python_Training_Day_5_All_Programs_Dictionary.ipynb\" target=\"_parent\"><img src=\"https://colab.research.google.com/assets/colab-badge.svg\" alt=\"Open In Colab\"/></a>"
      ]
    },
    {
      "cell_type": "markdown",
      "source": [
        "Dictionairy is a key value pair"
      ],
      "metadata": {
        "id": "s0dUmFplPFop"
      }
    },
    {
      "cell_type": "code",
      "source": [
        "d ={}\n",
        "print(type(d))"
      ],
      "metadata": {
        "colab": {
          "base_uri": "https://localhost:8080/"
        },
        "id": "Nr9Ot-8QPXVV",
        "outputId": "dbd15b6b-c31c-43ae-b64c-ab0ea54a13ab"
      },
      "execution_count": 2,
      "outputs": [
        {
          "output_type": "stream",
          "name": "stdout",
          "text": [
            "<class 'dict'>\n"
          ]
        }
      ]
    },
    {
      "cell_type": "code",
      "source": [
        "d['Python'] = 'Easy Language'\n",
        "d['Java'] = 'Tough Language'\n",
        "print(d)"
      ],
      "metadata": {
        "colab": {
          "base_uri": "https://localhost:8080/"
        },
        "id": "2u0ZsoAHPewQ",
        "outputId": "57a34622-751e-440d-f5c7-79968d24f452"
      },
      "execution_count": 3,
      "outputs": [
        {
          "output_type": "stream",
          "name": "stdout",
          "text": [
            "{'Python': 'Easy Language', 'Java': 'Tough Language'}\n"
          ]
        }
      ]
    },
    {
      "cell_type": "code",
      "source": [
        "d = {'Python':'Easy Language','Java' : 'Tough Language'}\n",
        "print(d)\n",
        "print(type(d))"
      ],
      "metadata": {
        "colab": {
          "base_uri": "https://localhost:8080/"
        },
        "id": "TmVODiypP4lc",
        "outputId": "7525594f-3021-44dc-c076-292ecca16ce4"
      },
      "execution_count": 4,
      "outputs": [
        {
          "output_type": "stream",
          "name": "stdout",
          "text": [
            "{'Python': 'Easy Language', 'Java': 'Tough Language'}\n",
            "<class 'dict'>\n"
          ]
        }
      ]
    },
    {
      "cell_type": "code",
      "source": [
        "d['Python']"
      ],
      "metadata": {
        "colab": {
          "base_uri": "https://localhost:8080/",
          "height": 36
        },
        "id": "85FoWy6-QLjW",
        "outputId": "c4dd25cd-3bba-45a2-c01a-48cc89d901bc"
      },
      "execution_count": 6,
      "outputs": [
        {
          "output_type": "execute_result",
          "data": {
            "text/plain": [
              "'Easy Language'"
            ],
            "application/vnd.google.colaboratory.intrinsic+json": {
              "type": "string"
            }
          },
          "metadata": {},
          "execution_count": 6
        }
      ]
    },
    {
      "cell_type": "code",
      "source": [
        "avengers = {'1':'Tony', '2':'Steve', '3':'Thor'}\n",
        "avengers"
      ],
      "metadata": {
        "colab": {
          "base_uri": "https://localhost:8080/"
        },
        "id": "wEY0YlXsQTMk",
        "outputId": "e75be56c-51b2-48d0-b41e-e4b4c3f51f97"
      },
      "execution_count": 7,
      "outputs": [
        {
          "output_type": "execute_result",
          "data": {
            "text/plain": [
              "{'1': 'Tony', '2': 'Steve', '3': 'Thor'}"
            ]
          },
          "metadata": {},
          "execution_count": 7
        }
      ]
    },
    {
      "cell_type": "code",
      "source": [
        "avengers = {'1':'Tony', '2':'Steve', '3':'Hulk'}\n",
        "del avengers['3']"
      ],
      "metadata": {
        "id": "Ra1j2brXQv6P"
      },
      "execution_count": 10,
      "outputs": []
    },
    {
      "cell_type": "code",
      "source": [
        "print(avengers)"
      ],
      "metadata": {
        "colab": {
          "base_uri": "https://localhost:8080/"
        },
        "id": "Ze8ORDckRXBI",
        "outputId": "48b355e5-f787-49d2-b361-28631cc7a8c5"
      },
      "execution_count": 11,
      "outputs": [
        {
          "output_type": "stream",
          "name": "stdout",
          "text": [
            "{'1': 'Tony', '2': 'Steve'}\n"
          ]
        }
      ]
    },
    {
      "cell_type": "code",
      "source": [
        "len(avengers)"
      ],
      "metadata": {
        "id": "Drh-F2iYRXUP"
      },
      "execution_count": null,
      "outputs": []
    },
    {
      "cell_type": "markdown",
      "source": [
        "Dictionary Methods"
      ],
      "metadata": {
        "id": "7u3nJTNzRsbU"
      }
    },
    {
      "cell_type": "code",
      "source": [
        "avengers = {'1':'Tony', '2':'Steve', '3':'Hulk'}\n",
        "for k in avengers.keys():\n",
        "  print('The keys',k,'maps to',avengers[k])\n",
        "ks = list(avengers.keys())\n",
        "print(ks)"
      ],
      "metadata": {
        "colab": {
          "base_uri": "https://localhost:8080/"
        },
        "id": "gd9mN_P2R0Kl",
        "outputId": "0e96df13-6cbf-4727-efae-d893426035b2"
      },
      "execution_count": 12,
      "outputs": [
        {
          "output_type": "stream",
          "name": "stdout",
          "text": [
            "The keys 1 maps to Tony\n",
            "The keys 2 maps to Steve\n",
            "The keys 3 maps to Hulk\n",
            "['1', '2', '3']\n"
          ]
        }
      ]
    },
    {
      "cell_type": "code",
      "source": [
        "print(avengers.value())\n",
        "dict_values([('1, 'Tony), ()])"
      ],
      "metadata": {
        "id": "CLM3s7sNSqB7"
      },
      "execution_count": null,
      "outputs": []
    },
    {
      "cell_type": "code",
      "source": [
        ""
      ],
      "metadata": {
        "id": "2ipqWd4gTU_A"
      },
      "execution_count": null,
      "outputs": []
    },
    {
      "cell_type": "code",
      "source": [
        "print(avengers.items())\n",
        "dict_items([(1, 'Tony'),(2, 'Steve'),(3, 'Thor'),(4,'Hulk')])"
      ],
      "metadata": {
        "colab": {
          "base_uri": "https://localhost:8080/",
          "height": 200
        },
        "id": "fgBpJInLTV5j",
        "outputId": "fbb0e374-1e5d-4fe0-a1a9-354b836fb5aa"
      },
      "execution_count": 13,
      "outputs": [
        {
          "output_type": "stream",
          "name": "stdout",
          "text": [
            "dict_items([('1', 'Tony'), ('2', 'Steve'), ('3', 'Hulk')])\n"
          ]
        },
        {
          "output_type": "error",
          "ename": "NameError",
          "evalue": "ignored",
          "traceback": [
            "\u001b[0;31m---------------------------------------------------------------------------\u001b[0m",
            "\u001b[0;31mNameError\u001b[0m                                 Traceback (most recent call last)",
            "\u001b[0;32m<ipython-input-13-af6d4055d96e>\u001b[0m in \u001b[0;36m<module>\u001b[0;34m()\u001b[0m\n\u001b[1;32m      1\u001b[0m \u001b[0mprint\u001b[0m\u001b[0;34m(\u001b[0m\u001b[0mavengers\u001b[0m\u001b[0;34m.\u001b[0m\u001b[0mitems\u001b[0m\u001b[0;34m(\u001b[0m\u001b[0;34m)\u001b[0m\u001b[0;34m)\u001b[0m\u001b[0;34m\u001b[0m\u001b[0;34m\u001b[0m\u001b[0m\n\u001b[0;32m----> 2\u001b[0;31m \u001b[0mdict_items\u001b[0m\u001b[0;34m(\u001b[0m\u001b[0;34m[\u001b[0m\u001b[0;34m(\u001b[0m\u001b[0;36m1\u001b[0m\u001b[0;34m,\u001b[0m \u001b[0;34m'Tony'\u001b[0m\u001b[0;34m)\u001b[0m\u001b[0;34m,\u001b[0m\u001b[0;34m(\u001b[0m\u001b[0;36m2\u001b[0m\u001b[0;34m,\u001b[0m \u001b[0;34m'Steve'\u001b[0m\u001b[0;34m)\u001b[0m\u001b[0;34m,\u001b[0m\u001b[0;34m(\u001b[0m\u001b[0;36m3\u001b[0m\u001b[0;34m,\u001b[0m \u001b[0;34m'Thor'\u001b[0m\u001b[0;34m)\u001b[0m\u001b[0;34m,\u001b[0m\u001b[0;34m(\u001b[0m\u001b[0;36m4\u001b[0m\u001b[0;34m,\u001b[0m\u001b[0;34m'Hulk'\u001b[0m\u001b[0;34m)\u001b[0m\u001b[0;34m]\u001b[0m\u001b[0;34m)\u001b[0m\u001b[0;34m\u001b[0m\u001b[0;34m\u001b[0m\u001b[0m\n\u001b[0m",
            "\u001b[0;31mNameError\u001b[0m: name 'dict_items' is not defined"
          ]
        }
      ]
    },
    {
      "cell_type": "code",
      "source": [
        "print(5 in avengers)"
      ],
      "metadata": {
        "colab": {
          "base_uri": "https://localhost:8080/"
        },
        "id": "6qOUW92UTrsT",
        "outputId": "035c1d54-73d8-449d-a40f-f9ac881d7d9c"
      },
      "execution_count": 14,
      "outputs": [
        {
          "output_type": "stream",
          "name": "stdout",
          "text": [
            "False\n"
          ]
        }
      ]
    },
    {
      "cell_type": "code",
      "source": [
        "avengers.has key(1)"
      ],
      "metadata": {
        "colab": {
          "base_uri": "https://localhost:8080/",
          "height": 131
        },
        "id": "nmHt2TqHTw-u",
        "outputId": "8c315391-e7d8-47c7-d84e-26685040fefd"
      },
      "execution_count": 15,
      "outputs": [
        {
          "output_type": "error",
          "ename": "SyntaxError",
          "evalue": "ignored",
          "traceback": [
            "\u001b[0;36m  File \u001b[0;32m\"<ipython-input-15-70d61f5c4f95>\"\u001b[0;36m, line \u001b[0;32m1\u001b[0m\n\u001b[0;31m    avengers.has key(1)\u001b[0m\n\u001b[0m                   ^\u001b[0m\n\u001b[0;31mSyntaxError\u001b[0m\u001b[0;31m:\u001b[0m invalid syntax\n"
          ]
        }
      ]
    },
    {
      "cell_type": "code",
      "source": [
        "avengers[5]"
      ],
      "metadata": {
        "colab": {
          "base_uri": "https://localhost:8080/",
          "height": 166
        },
        "id": "8JUH4zo9T_ZQ",
        "outputId": "202d1eb3-24da-4b7b-e0c2-b0d88df3fc9b"
      },
      "execution_count": 16,
      "outputs": [
        {
          "output_type": "error",
          "ename": "KeyError",
          "evalue": "ignored",
          "traceback": [
            "\u001b[0;31m---------------------------------------------------------------------------\u001b[0m",
            "\u001b[0;31mKeyError\u001b[0m                                  Traceback (most recent call last)",
            "\u001b[0;32m<ipython-input-16-a80969ba8691>\u001b[0m in \u001b[0;36m<module>\u001b[0;34m()\u001b[0m\n\u001b[0;32m----> 1\u001b[0;31m \u001b[0mavengers\u001b[0m\u001b[0;34m[\u001b[0m\u001b[0;36m5\u001b[0m\u001b[0;34m]\u001b[0m\u001b[0;34m\u001b[0m\u001b[0;34m\u001b[0m\u001b[0m\n\u001b[0m",
            "\u001b[0;31mKeyError\u001b[0m: 5"
          ]
        }
      ]
    },
    {
      "cell_type": "markdown",
      "source": [
        "#default Dict ( dictionary)"
      ],
      "metadata": {
        "id": "Z0FvhBcMUdAJ"
      }
    },
    {
      "cell_type": "code",
      "source": [
        "from collections import defaultdict\n",
        "old_avengers = defaultdict(lambda:'Not an old Avengers')\n",
        "old_avengers[1] = 'Tony'\n",
        "old_avengers[2] = 'Steve'\n",
        "old_avengers[3] = 'Thor'\n",
        "print(old_avengers[1])\n",
        "print(old_avengers[4])"
      ],
      "metadata": {
        "colab": {
          "base_uri": "https://localhost:8080/"
        },
        "id": "MD_uC2GGUh8L",
        "outputId": "5ebc20a5-fc32-47ef-a1ad-bfdbd0a797d5"
      },
      "execution_count": 21,
      "outputs": [
        {
          "output_type": "stream",
          "name": "stdout",
          "text": [
            "Tony\n",
            "Not an old Avengers\n"
          ]
        }
      ]
    },
    {
      "cell_type": "code",
      "source": [
        "print(avengers.get(2))"
      ],
      "metadata": {
        "colab": {
          "base_uri": "https://localhost:8080/"
        },
        "id": "6gOUvljUVsqR",
        "outputId": "26b982ab-8c22-4943-c6e1-208d1228b254"
      },
      "execution_count": 24,
      "outputs": [
        {
          "output_type": "stream",
          "name": "stdout",
          "text": [
            "None\n"
          ]
        }
      ]
    },
    {
      "cell_type": "code",
      "source": [
        "print(avengers.get(5,'Hawkeye'))"
      ],
      "metadata": {
        "colab": {
          "base_uri": "https://localhost:8080/"
        },
        "id": "4X9f2MQxV9AY",
        "outputId": "32b07634-ce6c-4159-f7e8-b65caf6bcb8e"
      },
      "execution_count": 25,
      "outputs": [
        {
          "output_type": "stream",
          "name": "stdout",
          "text": [
            "Hawkeye\n"
          ]
        }
      ]
    },
    {
      "cell_type": "code",
      "source": [
        "print(avengers)"
      ],
      "metadata": {
        "colab": {
          "base_uri": "https://localhost:8080/"
        },
        "id": "_C2y85WpWWnc",
        "outputId": "41d0a9f6-d1d6-499a-e268-ec624df9f547"
      },
      "execution_count": 26,
      "outputs": [
        {
          "output_type": "stream",
          "name": "stdout",
          "text": [
            "{'1': 'Tony', '2': 'Steve', '3': 'Hulk'}\n"
          ]
        }
      ]
    },
    {
      "cell_type": "markdown",
      "source": [
        "## How to Update Your Dictionary"
      ],
      "metadata": {
        "id": "82hESkuVWeST"
      }
    },
    {
      "cell_type": "code",
      "source": [
        "avengers.update({4: 'Hawkeye'})\n",
        "avengers"
      ],
      "metadata": {
        "colab": {
          "base_uri": "https://localhost:8080/"
        },
        "id": "1nv9fgeAWh7q",
        "outputId": "5584de26-02a3-4c21-b4d5-a894fb3973ca"
      },
      "execution_count": 28,
      "outputs": [
        {
          "output_type": "execute_result",
          "data": {
            "text/plain": [
              "{'1': 'Tony', '2': 'Steve', '3': 'Hulk', 4: 'Hawkeye'}"
            ]
          },
          "metadata": {},
          "execution_count": 28
        }
      ]
    },
    {
      "cell_type": "code",
      "source": [
        "avengers.update({5: 'Natasha'})\n",
        "avengers"
      ],
      "metadata": {
        "colab": {
          "base_uri": "https://localhost:8080/"
        },
        "outputId": "339f9f10-6f28-4bc5-e54c-deefb0224d0e",
        "id": "VIF5SMqHW58c"
      },
      "execution_count": 29,
      "outputs": [
        {
          "output_type": "execute_result",
          "data": {
            "text/plain": [
              "{'1': 'Tony', '2': 'Steve', '3': 'Hulk', 4: 'Hawkeye', 5: 'Natasha'}"
            ]
          },
          "metadata": {},
          "execution_count": 29
        }
      ]
    },
    {
      "cell_type": "code",
      "source": [
        "avengers.update({4: 'Hawkeye', 0 : 'Nick'})\n",
        "avengers"
      ],
      "metadata": {
        "colab": {
          "base_uri": "https://localhost:8080/"
        },
        "outputId": "ccf95494-a3d4-4d24-eb15-2b28a27f09d6",
        "id": "uUNrAVeLXCtP"
      },
      "execution_count": 30,
      "outputs": [
        {
          "output_type": "execute_result",
          "data": {
            "text/plain": [
              "{0: 'Nick', '1': 'Tony', '2': 'Steve', '3': 'Hulk', 4: 'Hawkeye', 5: 'Natasha'}"
            ]
          },
          "metadata": {},
          "execution_count": 30
        }
      ]
    },
    {
      "cell_type": "code",
      "source": [
        "avengers.update([(6, 'Thanos'),(  7, 'CrossBones')])\n",
        "avengers"
      ],
      "metadata": {
        "colab": {
          "base_uri": "https://localhost:8080/"
        },
        "outputId": "a6d95fe6-0a77-4e95-959c-9f3cc19d8510",
        "id": "tiof2Va8XSWO"
      },
      "execution_count": 34,
      "outputs": [
        {
          "output_type": "execute_result",
          "data": {
            "text/plain": [
              "{0: 'Nick',\n",
              " '1': 'Tony',\n",
              " '2': 'Steve',\n",
              " '3': 'Hulk',\n",
              " 4: 'Hawkeye',\n",
              " 5: 'Natasha',\n",
              " 6: 'Thanos',\n",
              " 7: 'CrossBones'}"
            ]
          },
          "metadata": {},
          "execution_count": 34
        }
      ]
    },
    {
      "cell_type": "markdown",
      "source": [
        "## Remove Values from Dictionary"
      ],
      "metadata": {
        "id": "ior9T79vYONP"
      }
    },
    {
      "cell_type": "code",
      "source": [
        "del avengers[7]\n",
        "avengers"
      ],
      "metadata": {
        "colab": {
          "base_uri": "https://localhost:8080/"
        },
        "id": "qG_lkiXCYWHv",
        "outputId": "e63ff927-61fc-4c31-fc05-601c817c5ecf"
      },
      "execution_count": 35,
      "outputs": [
        {
          "output_type": "execute_result",
          "data": {
            "text/plain": [
              "{0: 'Nick',\n",
              " '1': 'Tony',\n",
              " '2': 'Steve',\n",
              " '3': 'Hulk',\n",
              " 4: 'Hawkeye',\n",
              " 5: 'Natasha',\n",
              " 6: 'Thanos'}"
            ]
          },
          "metadata": {},
          "execution_count": 35
        }
      ]
    },
    {
      "cell_type": "code",
      "source": [
        "avengers.pop(6)\n",
        "avengers"
      ],
      "metadata": {
        "colab": {
          "base_uri": "https://localhost:8080/"
        },
        "id": "XKn-b169Yk0D",
        "outputId": "79dec785-b193-488b-f2ec-5cd3bafef428"
      },
      "execution_count": 36,
      "outputs": [
        {
          "output_type": "execute_result",
          "data": {
            "text/plain": [
              "{0: 'Nick', '1': 'Tony', '2': 'Steve', '3': 'Hulk', 4: 'Hawkeye', 5: 'Natasha'}"
            ]
          },
          "metadata": {},
          "execution_count": 36
        }
      ]
    },
    {
      "cell_type": "code",
      "source": [
        "avengers.pop()\n",
        "avengers"
      ],
      "metadata": {
        "colab": {
          "base_uri": "https://localhost:8080/",
          "height": 183
        },
        "id": "7tHRH7XZYxpB",
        "outputId": "97fa99d0-e629-4dea-fdb4-d0172aad16e9"
      },
      "execution_count": 38,
      "outputs": [
        {
          "output_type": "error",
          "ename": "TypeError",
          "evalue": "ignored",
          "traceback": [
            "\u001b[0;31m---------------------------------------------------------------------------\u001b[0m",
            "\u001b[0;31mTypeError\u001b[0m                                 Traceback (most recent call last)",
            "\u001b[0;32m<ipython-input-38-13906f93e398>\u001b[0m in \u001b[0;36m<module>\u001b[0;34m()\u001b[0m\n\u001b[0;32m----> 1\u001b[0;31m \u001b[0mavengers\u001b[0m\u001b[0;34m.\u001b[0m\u001b[0mpop\u001b[0m\u001b[0;34m(\u001b[0m\u001b[0;34m)\u001b[0m\u001b[0;34m\u001b[0m\u001b[0;34m\u001b[0m\u001b[0m\n\u001b[0m\u001b[1;32m      2\u001b[0m \u001b[0mavengers\u001b[0m\u001b[0;34m\u001b[0m\u001b[0;34m\u001b[0m\u001b[0m\n",
            "\u001b[0;31mTypeError\u001b[0m: pop expected at least 1 arguments, got 0"
          ]
        }
      ]
    },
    {
      "cell_type": "code",
      "source": [
        "avengers.pop(8, None)\n",
        "avengers"
      ],
      "metadata": {
        "colab": {
          "base_uri": "https://localhost:8080/"
        },
        "id": "5caKUMOvZMT5",
        "outputId": "915abf9d-7e75-404a-9d6b-9c57ab7e0d81"
      },
      "execution_count": 40,
      "outputs": [
        {
          "output_type": "execute_result",
          "data": {
            "text/plain": [
              "{0: 'Nick', '1': 'Tony', '2': 'Steve', '3': 'Hulk', 4: 'Hawkeye', 5: 'Natasha'}"
            ]
          },
          "metadata": {},
          "execution_count": 40
        }
      ]
    },
    {
      "cell_type": "code",
      "source": [
        "sorted(avengers.key())"
      ],
      "metadata": {
        "colab": {
          "base_uri": "https://localhost:8080/",
          "height": 166
        },
        "id": "BCXhhlLCZzdS",
        "outputId": "697a4616-175f-46e3-fa53-701da7ac56ce"
      },
      "execution_count": 42,
      "outputs": [
        {
          "output_type": "error",
          "ename": "AttributeError",
          "evalue": "ignored",
          "traceback": [
            "\u001b[0;31m---------------------------------------------------------------------------\u001b[0m",
            "\u001b[0;31mAttributeError\u001b[0m                            Traceback (most recent call last)",
            "\u001b[0;32m<ipython-input-42-ca0916f3aa64>\u001b[0m in \u001b[0;36m<module>\u001b[0;34m()\u001b[0m\n\u001b[0;32m----> 1\u001b[0;31m \u001b[0msorted\u001b[0m\u001b[0;34m(\u001b[0m\u001b[0mavengers\u001b[0m\u001b[0;34m.\u001b[0m\u001b[0mkey\u001b[0m\u001b[0;34m(\u001b[0m\u001b[0;34m)\u001b[0m\u001b[0;34m)\u001b[0m\u001b[0;34m\u001b[0m\u001b[0;34m\u001b[0m\u001b[0m\n\u001b[0m",
            "\u001b[0;31mAttributeError\u001b[0m: 'dict' object has no attribute 'key'"
          ]
        }
      ]
    },
    {
      "cell_type": "code",
      "source": [
        "sorted(avengers.items(), reverse = True)"
      ],
      "metadata": {
        "colab": {
          "base_uri": "https://localhost:8080/",
          "height": 166
        },
        "id": "EIzNlixEZ8B-",
        "outputId": "c383a7fc-98a5-4b4d-ea2d-5e2bc40a2772"
      },
      "execution_count": 43,
      "outputs": [
        {
          "output_type": "error",
          "ename": "TypeError",
          "evalue": "ignored",
          "traceback": [
            "\u001b[0;31m---------------------------------------------------------------------------\u001b[0m",
            "\u001b[0;31mTypeError\u001b[0m                                 Traceback (most recent call last)",
            "\u001b[0;32m<ipython-input-43-360362a0be52>\u001b[0m in \u001b[0;36m<module>\u001b[0;34m()\u001b[0m\n\u001b[0;32m----> 1\u001b[0;31m \u001b[0msorted\u001b[0m\u001b[0;34m(\u001b[0m\u001b[0mavengers\u001b[0m\u001b[0;34m.\u001b[0m\u001b[0mitems\u001b[0m\u001b[0;34m(\u001b[0m\u001b[0;34m)\u001b[0m\u001b[0;34m,\u001b[0m \u001b[0mreverse\u001b[0m \u001b[0;34m=\u001b[0m \u001b[0;32mTrue\u001b[0m\u001b[0;34m)\u001b[0m\u001b[0;34m\u001b[0m\u001b[0;34m\u001b[0m\u001b[0m\n\u001b[0m",
            "\u001b[0;31mTypeError\u001b[0m: '<' not supported between instances of 'str' and 'int'"
          ]
        }
      ]
    },
    {
      "cell_type": "markdown",
      "source": [
        "## How to convert a list into a dictionary"
      ],
      "metadata": {
        "id": "kg8lnTjMaTze"
      }
    },
    {
      "cell_type": "code",
      "source": [
        "d = ['Tony', 'Ironman']\n",
        "print(d)"
      ],
      "metadata": {
        "colab": {
          "base_uri": "https://localhost:8080/"
        },
        "id": "VQxESi18aYtx",
        "outputId": "9608a001-09c7-437e-d07b-7b16b58f7002"
      },
      "execution_count": 44,
      "outputs": [
        {
          "output_type": "stream",
          "name": "stdout",
          "text": [
            "['Tony', 'Ironman']\n"
          ]
        }
      ]
    },
    {
      "cell_type": "code",
      "source": [
        "# zip\n",
        "list(zip(d))"
      ],
      "metadata": {
        "colab": {
          "base_uri": "https://localhost:8080/"
        },
        "id": "REsP4Jlmalso",
        "outputId": "236c880c-f0a5-4f69-d364-f162a8770510"
      },
      "execution_count": 45,
      "outputs": [
        {
          "output_type": "execute_result",
          "data": {
            "text/plain": [
              "[('Tony',), ('Ironman',)]"
            ]
          },
          "metadata": {},
          "execution_count": 45
        }
      ]
    },
    {
      "cell_type": "code",
      "source": [
        "non_hero_name = ['Tony', 'Steve','Bruce']\n",
        "hero_name = ['Ironman', 'Captain America', 'Hulk']\n",
        "avengers = dict(zip(non_hero_name, hero_name))\n",
        "print(avengers)"
      ],
      "metadata": {
        "colab": {
          "base_uri": "https://localhost:8080/"
        },
        "id": "9_O_LO4ia-yD",
        "outputId": "d3733dd8-5660-4fc6-fbaf-8eb9902e8915"
      },
      "execution_count": 47,
      "outputs": [
        {
          "output_type": "stream",
          "name": "stdout",
          "text": [
            "{'Tony': 'Ironman', 'Steve': 'Captain America', 'Bruce': 'Hulk'}\n"
          ]
        }
      ]
    },
    {
      "cell_type": "code",
      "source": [
        "avengers.keys()\n"
      ],
      "metadata": {
        "colab": {
          "base_uri": "https://localhost:8080/"
        },
        "id": "aK4DYDZOcAoU",
        "outputId": "b3b51173-7f16-49e9-870f-6e57d21ff12e"
      },
      "execution_count": 48,
      "outputs": [
        {
          "output_type": "execute_result",
          "data": {
            "text/plain": [
              "dict_keys(['Tony', 'Steve', 'Bruce'])"
            ]
          },
          "metadata": {},
          "execution_count": 48
        }
      ]
    },
    {
      "cell_type": "code",
      "source": [
        "sorted(avengers.keys())"
      ],
      "metadata": {
        "colab": {
          "base_uri": "https://localhost:8080/"
        },
        "id": "t-p6VtAwcFWx",
        "outputId": "b73ae628-39e0-46da-e477-cf1cc2fa2cc7"
      },
      "execution_count": 49,
      "outputs": [
        {
          "output_type": "execute_result",
          "data": {
            "text/plain": [
              "['Bruce', 'Steve', 'Tony']"
            ]
          },
          "metadata": {},
          "execution_count": 49
        }
      ]
    },
    {
      "cell_type": "code",
      "source": [
        "d = ['Tony','Ironman']\n",
        "dict(zip(d[0::2],d[1::2]))\n",
        "print(d)"
      ],
      "metadata": {
        "colab": {
          "base_uri": "https://localhost:8080/"
        },
        "id": "hbCXpid1cm9Q",
        "outputId": "24bd0423-58ab-4794-eea4-5bf170af0380"
      },
      "execution_count": 57,
      "outputs": [
        {
          "output_type": "stream",
          "name": "stdout",
          "text": [
            "['Tony', 'Ironman']\n"
          ]
        }
      ]
    },
    {
      "cell_type": "code",
      "source": [
        "d = ['Tony', 'Ironman']\n",
        "print(d[0])\n",
        "print(d[1])\n",
        "print(d[0:1])\n",
        "print(d[0::2])\n",
        "print(d[1::2])"
      ],
      "metadata": {
        "colab": {
          "base_uri": "https://localhost:8080/"
        },
        "id": "yTwWmriMdCes",
        "outputId": "120870f7-30aa-403d-881f-36b3e7debf20"
      },
      "execution_count": 56,
      "outputs": [
        {
          "output_type": "stream",
          "name": "stdout",
          "text": [
            "Tony\n",
            "Ironman\n",
            "['Tony']\n",
            "['Tony']\n",
            "['Ironman']\n"
          ]
        }
      ]
    },
    {
      "cell_type": "markdown",
      "source": [
        "## Unziping a Dictionary"
      ],
      "metadata": {
        "id": "-1tDQP7PeLho"
      }
    },
    {
      "cell_type": "code",
      "source": [
        "avengers = [('Tony', 'Ironman'), ('Steve'), \n",
        "            ('Captain America'),\n",
        "            ('Bruce','Hulk')]\n",
        "non_hero, hero = zip(*avengers)\n",
        "print(non_hero)"
      ],
      "metadata": {
        "colab": {
          "base_uri": "https://localhost:8080/"
        },
        "id": "PEF57aaXePLq",
        "outputId": "e9a1e9ff-f48d-413e-b694-641e075b1b5f"
      },
      "execution_count": 59,
      "outputs": [
        {
          "output_type": "stream",
          "name": "stdout",
          "text": [
            "('Tony', 'S', 'C', 'Bruce')\n"
          ]
        }
      ]
    },
    {
      "cell_type": "code",
      "source": [
        "print(hero)"
      ],
      "metadata": {
        "colab": {
          "base_uri": "https://localhost:8080/"
        },
        "id": "VoJa_aD7fK9-",
        "outputId": "ba906c58-5051-4cab-931a-6898f5df24a4"
      },
      "execution_count": 60,
      "outputs": [
        {
          "output_type": "stream",
          "name": "stdout",
          "text": [
            "('Ironman', 't', 'a', 'Hulk')\n"
          ]
        }
      ]
    },
    {
      "cell_type": "code",
      "source": [
        "non_hero_name = ['Tony','Steve','Bruce']\n",
        "hero_name = ['Ironman', 'Captain America', 'Hulk']\n",
        "d_com = {k:v for k,v in zip (non_hero_name, hero_name)}\n",
        "print(d_com)"
      ],
      "metadata": {
        "colab": {
          "base_uri": "https://localhost:8080/"
        },
        "id": "X2yRwBe6gaJ0",
        "outputId": "0fb22ca8-03f8-4940-81ee-150dc3225b2f"
      },
      "execution_count": 63,
      "outputs": [
        {
          "output_type": "stream",
          "name": "stdout",
          "text": [
            "{'Tony': 'Ironman', 'Steve': 'Captain America', 'Bruce': 'Hulk'}\n"
          ]
        }
      ]
    },
    {
      "cell_type": "markdown",
      "source": [
        "## Question of the Company"
      ],
      "metadata": {
        "id": "OLdod5bPg9rt"
      }
    },
    {
      "cell_type": "markdown",
      "source": [
        "# WAP to print the content of the dictionary whose key is greater tgan 3 and key when divided by 3 has remainder 0, uisng dictionary comprehension"
      ],
      "metadata": {
        "id": "_8Sxq_-ngtRE"
      }
    },
    {
      "cell_type": "code",
      "source": [
        "a = {1:'a',2:'b',3:'c',4:'d',5:'e',6:'f'}\n",
        "a_com = {k:v for k,v in a.items() if k > 3 if k%3 == 0}\n",
        "print(a_com)"
      ],
      "metadata": {
        "colab": {
          "base_uri": "https://localhost:8080/"
        },
        "id": "izG3WpZdhFtY",
        "outputId": "403d5c47-b0ed-47a0-f0f6-2899f5b25219"
      },
      "execution_count": 64,
      "outputs": [
        {
          "output_type": "stream",
          "name": "stdout",
          "text": [
            "{6: 'f'}\n"
          ]
        }
      ]
    },
    {
      "cell_type": "code",
      "source": [
        "id k > 3:\n",
        " if k % 3:\n",
        "   "
      ],
      "metadata": {
        "id": "5qsAIw7Nh22A"
      },
      "execution_count": null,
      "outputs": []
    }
  ]
}