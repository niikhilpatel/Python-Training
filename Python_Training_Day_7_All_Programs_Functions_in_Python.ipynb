{
  "nbformat": 4,
  "nbformat_minor": 0,
  "metadata": {
    "colab": {
      "name": "Python Training Day 7 All Programs Functions in Python.ipynb",
      "provenance": [],
      "authorship_tag": "ABX9TyOqKGGGHH9Mgj1EqsFQAZPs",
      "include_colab_link": true
    },
    "kernelspec": {
      "name": "python3",
      "display_name": "Python 3"
    },
    "language_info": {
      "name": "python"
    }
  },
  "cells": [
    {
      "cell_type": "markdown",
      "metadata": {
        "id": "view-in-github",
        "colab_type": "text"
      },
      "source": [
        "<a href=\"https://colab.research.google.com/github/niikhilpatel/Python-Training/blob/main/Python_Training_Day_7_All_Programs_Functions_in_Python.ipynb\" target=\"_parent\"><img src=\"https://colab.research.google.com/assets/colab-badge.svg\" alt=\"Open In Colab\"/></a>"
      ]
    },
    {
      "cell_type": "markdown",
      "source": [
        "#Functions"
      ],
      "metadata": {
        "id": "Ted6T5zmAUdX"
      }
    },
    {
      "cell_type": "markdown",
      "source": [
        "## Functions are block of code which are excuted when they are called by their names.\n",
        "## Functions are used when a set of instructions are used again and again repeatedly - Code Reusability."
      ],
      "metadata": {
        "id": "wL8Xo-fdAUhy"
      }
    },
    {
      "cell_type": "code",
      "source": [
        "def sq(n):                     # n is called parameter\n",
        "  pass                         # you can pass pass here it means something come here\n",
        "\n",
        "print(sq(5))                   # when you assign n a value it is called arguments"
      ],
      "metadata": {
        "colab": {
          "base_uri": "https://localhost:8080/"
        },
        "id": "ViWb-dXKA2mT",
        "outputId": "9db57fde-0eba-45d8-e052-ea6a68a7ea8d"
      },
      "execution_count": 3,
      "outputs": [
        {
          "output_type": "stream",
          "name": "stdout",
          "text": [
            "None\n"
          ]
        }
      ]
    },
    {
      "cell_type": "code",
      "source": [
        "def sq(n):\n",
        "  return n**2\n",
        "\n",
        "print(sq(5))"
      ],
      "metadata": {
        "colab": {
          "base_uri": "https://localhost:8080/"
        },
        "id": "V9UnE68vBykX",
        "outputId": "d17541a9-ce5c-4659-c304-d33dab3c0978"
      },
      "execution_count": 2,
      "outputs": [
        {
          "output_type": "stream",
          "name": "stdout",
          "text": [
            "25\n"
          ]
        }
      ]
    },
    {
      "cell_type": "code",
      "source": [
        "# without function you can write like this\n",
        "n = 5\n",
        "print(n**2)"
      ],
      "metadata": {
        "colab": {
          "base_uri": "https://localhost:8080/"
        },
        "id": "L3u0sGbgCBrC",
        "outputId": "9247031d-915e-4d7e-f540-1d99c13cd7ae"
      },
      "execution_count": 6,
      "outputs": [
        {
          "output_type": "stream",
          "name": "stdout",
          "text": [
            "25\n"
          ]
        }
      ]
    },
    {
      "cell_type": "markdown",
      "source": [
        "### No. of Parameters must be equal to the no. of arguments"
      ],
      "metadata": {
        "id": "7g2VQnwCCrLf"
      }
    },
    {
      "cell_type": "code",
      "source": [
        "def sq(n,m):   # n is parameter\n",
        "  return n**2\n",
        "\n",
        "print(sq(4))   # n = 4 is argument"
      ],
      "metadata": {
        "colab": {
          "base_uri": "https://localhost:8080/",
          "height": 206
        },
        "id": "gMvhcywRC6oH",
        "outputId": "72947f9e-1751-4b46-fd3c-402ce233d43f"
      },
      "execution_count": 7,
      "outputs": [
        {
          "output_type": "error",
          "ename": "TypeError",
          "evalue": "ignored",
          "traceback": [
            "\u001b[0;31m---------------------------------------------------------------------------\u001b[0m",
            "\u001b[0;31mTypeError\u001b[0m                                 Traceback (most recent call last)",
            "\u001b[0;32m<ipython-input-7-2c19f7f3614f>\u001b[0m in \u001b[0;36m<module>\u001b[0;34m()\u001b[0m\n\u001b[1;32m      2\u001b[0m   \u001b[0;32mreturn\u001b[0m \u001b[0mn\u001b[0m\u001b[0;34m**\u001b[0m\u001b[0;36m2\u001b[0m\u001b[0;34m\u001b[0m\u001b[0;34m\u001b[0m\u001b[0m\n\u001b[1;32m      3\u001b[0m \u001b[0;34m\u001b[0m\u001b[0m\n\u001b[0;32m----> 4\u001b[0;31m \u001b[0mprint\u001b[0m\u001b[0;34m(\u001b[0m\u001b[0msq\u001b[0m\u001b[0;34m(\u001b[0m\u001b[0;36m4\u001b[0m\u001b[0;34m)\u001b[0m\u001b[0;34m)\u001b[0m   \u001b[0;31m# n = 4 is argument\u001b[0m\u001b[0;34m\u001b[0m\u001b[0;34m\u001b[0m\u001b[0m\n\u001b[0m",
            "\u001b[0;31mTypeError\u001b[0m: sq() missing 1 required positional argument: 'm'"
          ]
        }
      ]
    },
    {
      "cell_type": "code",
      "source": [
        "def sq(n,m):   # n is parameter\n",
        "  return n**2\n",
        "\n",
        "print(sq(4,5))   # n = 4 is argument"
      ],
      "metadata": {
        "colab": {
          "base_uri": "https://localhost:8080/"
        },
        "id": "ZGbF1hfNDZIV",
        "outputId": "3c37c3d6-d682-4a4a-a65e-7d855488f699"
      },
      "execution_count": 9,
      "outputs": [
        {
          "output_type": "stream",
          "name": "stdout",
          "text": [
            "16\n"
          ]
        }
      ]
    },
    {
      "cell_type": "code",
      "source": [
        "def sq(n,m = 0):   # n is parameter\n",
        "  return (n**2 + m)\n",
        "\n",
        "print(sq(4))   # n = 4 is argument"
      ],
      "metadata": {
        "colab": {
          "base_uri": "https://localhost:8080/"
        },
        "id": "SvHI5rLTDNV3",
        "outputId": "9b39078e-d97a-48ec-9fb6-a5f01398350c"
      },
      "execution_count": 10,
      "outputs": [
        {
          "output_type": "stream",
          "name": "stdout",
          "text": [
            "16\n"
          ]
        }
      ]
    },
    {
      "cell_type": "code",
      "source": [
        "def sq(n,m = 0):   # n,m is parameter\n",
        "  return (n**2 + m)\n",
        "\n",
        "print(sq(4,4))   # n,m = 4 is argument"
      ],
      "metadata": {
        "colab": {
          "base_uri": "https://localhost:8080/"
        },
        "id": "mPgLvUvMDpKO",
        "outputId": "c85837e7-7eec-40d4-929e-3f819f1cb8bc"
      },
      "execution_count": 11,
      "outputs": [
        {
          "output_type": "stream",
          "name": "stdout",
          "text": [
            "20\n"
          ]
        }
      ]
    },
    {
      "cell_type": "code",
      "source": [
        "# you can not write like this\n",
        "# non default parameter default parameter\n",
        "def sq(m = 0,n):   # n,m is parameter\n",
        "  return (n**2 + m)\n",
        "\n",
        "print(sq(4,4))   # n,m = 4 is argument"
      ],
      "metadata": {
        "colab": {
          "base_uri": "https://localhost:8080/",
          "height": 133
        },
        "id": "2Yk3E6KcD9HT",
        "outputId": "05242567-6e3b-490d-aa66-561eca1bc1a0"
      },
      "execution_count": 13,
      "outputs": [
        {
          "output_type": "error",
          "ename": "SyntaxError",
          "evalue": "ignored",
          "traceback": [
            "\u001b[0;36m  File \u001b[0;32m\"<ipython-input-13-3b8205999ae8>\"\u001b[0;36m, line \u001b[0;32m1\u001b[0m\n\u001b[0;31m    def sq(m = 0,n):   # n,m is parameter\u001b[0m\n\u001b[0m          ^\u001b[0m\n\u001b[0;31mSyntaxError\u001b[0m\u001b[0;31m:\u001b[0m non-default argument follows default argument\n"
          ]
        }
      ]
    },
    {
      "cell_type": "code",
      "source": [
        "def sq(n,m = 0):   # n is parameter\n",
        "  return (n**2 + m)\n",
        "\n",
        "f = sq\n",
        "print(sq)   # n = 4 is argument\n",
        "print(f(8, 2))"
      ],
      "metadata": {
        "colab": {
          "base_uri": "https://localhost:8080/"
        },
        "id": "VHRFzWt8EWdL",
        "outputId": "da06bdee-b6be-49d7-d7a3-23cc0e9f0ffb"
      },
      "execution_count": 14,
      "outputs": [
        {
          "output_type": "stream",
          "name": "stdout",
          "text": [
            "<function sq at 0x7f6941d0fb00>\n",
            "66\n"
          ]
        }
      ]
    },
    {
      "cell_type": "markdown",
      "source": [
        "## First Class Function"
      ],
      "metadata": {
        "id": "mjN-GCSUE4HI"
      }
    },
    {
      "cell_type": "code",
      "source": [
        "def log_in(msg):\n",
        "  def login_msg():\n",
        "    print('Login', msg)\n",
        "  return login_msg\n",
        "user_login = log_in('Welcome')\n",
        "user_login()"
      ],
      "metadata": {
        "colab": {
          "base_uri": "https://localhost:8080/"
        },
        "id": "JSxO-nUDFTel",
        "outputId": "5a1c18d1-964f-44aa-d5de-ec5551f4cfb1"
      },
      "execution_count": 15,
      "outputs": [
        {
          "output_type": "stream",
          "name": "stdout",
          "text": [
            "Login Welcome\n"
          ]
        }
      ]
    },
    {
      "cell_type": "markdown",
      "source": [
        "## Scopes in Functions"
      ],
      "metadata": {
        "id": "-pjnJ9GLHLGz"
      }
    },
    {
      "cell_type": "code",
      "source": [
        "def sq(n):\n",
        "  m = n ** 2\n",
        "  return m\n",
        "print(sq(4))"
      ],
      "metadata": {
        "colab": {
          "base_uri": "https://localhost:8080/"
        },
        "id": "hvLPp3q7HTYI",
        "outputId": "8d2b9cd2-ef4c-4a2d-86f0-e1b91272a0ce"
      },
      "execution_count": 16,
      "outputs": [
        {
          "output_type": "stream",
          "name": "stdout",
          "text": [
            "16\n"
          ]
        }
      ]
    },
    {
      "cell_type": "code",
      "source": [
        "def sq(n):\n",
        "  m = n ** 2\n",
        "  return m\n",
        "print(sq(m))                #name error"
      ],
      "metadata": {
        "colab": {
          "base_uri": "https://localhost:8080/",
          "height": 206
        },
        "id": "I7vpZw8KHhSL",
        "outputId": "a6e0a5cd-2b16-4d41-da7d-db2127f30941"
      },
      "execution_count": 17,
      "outputs": [
        {
          "output_type": "error",
          "ename": "NameError",
          "evalue": "ignored",
          "traceback": [
            "\u001b[0;31m---------------------------------------------------------------------------\u001b[0m",
            "\u001b[0;31mNameError\u001b[0m                                 Traceback (most recent call last)",
            "\u001b[0;32m<ipython-input-17-e9f6471f8784>\u001b[0m in \u001b[0;36m<module>\u001b[0;34m()\u001b[0m\n\u001b[1;32m      2\u001b[0m   \u001b[0mm\u001b[0m \u001b[0;34m=\u001b[0m \u001b[0mn\u001b[0m \u001b[0;34m**\u001b[0m \u001b[0;36m2\u001b[0m\u001b[0;34m\u001b[0m\u001b[0;34m\u001b[0m\u001b[0m\n\u001b[1;32m      3\u001b[0m   \u001b[0;32mreturn\u001b[0m \u001b[0mm\u001b[0m\u001b[0;34m\u001b[0m\u001b[0;34m\u001b[0m\u001b[0m\n\u001b[0;32m----> 4\u001b[0;31m \u001b[0mprint\u001b[0m\u001b[0;34m(\u001b[0m\u001b[0msq\u001b[0m\u001b[0;34m(\u001b[0m\u001b[0mm\u001b[0m\u001b[0;34m)\u001b[0m\u001b[0;34m)\u001b[0m\u001b[0;34m\u001b[0m\u001b[0;34m\u001b[0m\u001b[0m\n\u001b[0m",
            "\u001b[0;31mNameError\u001b[0m: name 'm' is not defined"
          ]
        }
      ]
    },
    {
      "cell_type": "code",
      "source": [
        "def sq(n):\n",
        "  global m\n",
        "  m = n**2\n",
        "  return m\n",
        "print(sq(m))"
      ],
      "metadata": {
        "colab": {
          "base_uri": "https://localhost:8080/"
        },
        "id": "2L5n4uKaHzDf",
        "outputId": "9b6e992c-084b-4b66-9a43-f7c405a219e1"
      },
      "execution_count": 19,
      "outputs": [
        {
          "output_type": "stream",
          "name": "stdout",
          "text": [
            "1\n"
          ]
        }
      ]
    },
    {
      "cell_type": "code",
      "source": [
        "m = 1\n",
        "def sq(n):\n",
        "  global m\n",
        "  m = n**2\n",
        "  return m\n",
        "print(sq(m))"
      ],
      "metadata": {
        "colab": {
          "base_uri": "https://localhost:8080/"
        },
        "id": "OUW9rmusIL7J",
        "outputId": "ac073b4b-e6f3-4126-8729-0bffef4ba5e8"
      },
      "execution_count": 18,
      "outputs": [
        {
          "output_type": "stream",
          "name": "stdout",
          "text": [
            "1\n"
          ]
        }
      ]
    },
    {
      "cell_type": "code",
      "source": [
        "m = 10 \n",
        "def global_check():\n",
        "  m = 20\n",
        "  print('Variable Inside fuction: ',m)\n",
        "\n",
        "global_check()\n",
        "print('Variable Outside fuction : ',m)\n"
      ],
      "metadata": {
        "colab": {
          "base_uri": "https://localhost:8080/"
        },
        "id": "hc2lTJCnIYNz",
        "outputId": "390a0181-e35e-4959-945b-40f1c01263fe"
      },
      "execution_count": 21,
      "outputs": [
        {
          "output_type": "stream",
          "name": "stdout",
          "text": [
            "Variable Inside fuction:  20\n",
            "Variable Outside fuction :  10\n"
          ]
        }
      ]
    },
    {
      "cell_type": "code",
      "source": [
        "m = 10 \n",
        "def global_check():\n",
        " # m = 20\n",
        "  print('Variable Inside fuction: ',m)\n",
        "\n",
        "global_check()\n",
        "print('Variable Outside fuction : ',m)\n"
      ],
      "metadata": {
        "colab": {
          "base_uri": "https://localhost:8080/"
        },
        "id": "CsocAyTrI_wg",
        "outputId": "4d629e70-b616-41c9-e395-accc0c505bc9"
      },
      "execution_count": 22,
      "outputs": [
        {
          "output_type": "stream",
          "name": "stdout",
          "text": [
            "Variable Inside fuction:  10\n",
            "Variable Outside fuction :  10\n"
          ]
        }
      ]
    },
    {
      "cell_type": "code",
      "source": [
        "m = 10 \n",
        "def global_check():\n",
        "  global m\n",
        "  m = 20\n",
        "  a = globals()['m']\n",
        "  print('Variable Inside fuction: ',m)\n",
        "\n",
        "global_check()\n",
        "print('Variable Outside fuction : ',m)\n"
      ],
      "metadata": {
        "colab": {
          "base_uri": "https://localhost:8080/"
        },
        "id": "x2-1E5NxJa2M",
        "outputId": "5dd43015-0e02-4137-f8e5-b62a3084f66e"
      },
      "execution_count": 24,
      "outputs": [
        {
          "output_type": "stream",
          "name": "stdout",
          "text": [
            "Variable Inside fuction:  20\n",
            "Variable Outside fuction :  20\n"
          ]
        }
      ]
    },
    {
      "cell_type": "code",
      "source": [
        "m = 10 \n",
        "def global_check():\n",
        "  m = 20\n",
        "  a = globals()['m']\n",
        "  print('Variable Inside fuction: ',m)\n",
        "\n",
        "global_check()\n",
        "print('Variable Outside fuction : ',m)\n"
      ],
      "metadata": {
        "colab": {
          "base_uri": "https://localhost:8080/"
        },
        "id": "GpvVoZy6KHG3",
        "outputId": "3bc5dc99-046c-4147-9744-effeb916d7da"
      },
      "execution_count": 25,
      "outputs": [
        {
          "output_type": "stream",
          "name": "stdout",
          "text": [
            "Variable Inside fuction:  20\n",
            "Variable Outside fuction :  10\n"
          ]
        }
      ]
    },
    {
      "cell_type": "code",
      "source": [
        "m = 10 \n",
        "def global_check():\n",
        "  m = 20\n",
        "  a = globals()['m']\n",
        "  print('Variable Inside fuction: ',m)\n",
        "\n",
        "  globals()['m'] = 50\n",
        "\n",
        "global_check()\n",
        "print('Variable Outside fuction : ',m)"
      ],
      "metadata": {
        "colab": {
          "base_uri": "https://localhost:8080/"
        },
        "id": "HeDEjEi0KP4A",
        "outputId": "a6d63043-6912-4569-b8e5-d4e41324ed7e"
      },
      "execution_count": 27,
      "outputs": [
        {
          "output_type": "stream",
          "name": "stdout",
          "text": [
            "Variable Inside fuction:  20\n",
            "Variable Outside fuction :  50\n"
          ]
        }
      ]
    },
    {
      "cell_type": "markdown",
      "source": [
        "## LEGB --> Local, Enclosed , Global< Build-in\n",
        "###This is the order of checking\\\n",
        "###This 4 are scope"
      ],
      "metadata": {
        "id": "o9xuH__3Kh3_"
      }
    },
    {
      "cell_type": "code",
      "source": [
        "def outer():\n",
        "  x = 'Outer of x'\n",
        "  def inner():\n",
        "    x = 'inner of x'\n",
        "    print(x)\n",
        "\n",
        "  inner()\n",
        "  print(x)\n",
        "outer()"
      ],
      "metadata": {
        "colab": {
          "base_uri": "https://localhost:8080/"
        },
        "id": "dNsziuK6Ksuj",
        "outputId": "f9646329-5909-4cb4-8785-1cc97751950e"
      },
      "execution_count": 28,
      "outputs": [
        {
          "output_type": "stream",
          "name": "stdout",
          "text": [
            "inner of x\n",
            "Outer of x\n"
          ]
        }
      ]
    },
    {
      "cell_type": "code",
      "source": [
        "def outer():\n",
        "  x = 'Outer of x'\n",
        "  def inner():\n",
        "   # x = 'inner of x'\n",
        "    print(x)\n",
        "\n",
        "  inner()\n",
        "  print(x)\n",
        "outer()"
      ],
      "metadata": {
        "colab": {
          "base_uri": "https://localhost:8080/"
        },
        "id": "QObQsKHwL031",
        "outputId": "bbf8862b-4c72-40de-aafb-48710acc4962"
      },
      "execution_count": 29,
      "outputs": [
        {
          "output_type": "stream",
          "name": "stdout",
          "text": [
            "Outer of x\n",
            "Outer of x\n"
          ]
        }
      ]
    },
    {
      "cell_type": "code",
      "source": [
        "def outer():\n",
        " # x = 'Outer of x'\n",
        "  def inner():\n",
        "    x = 'inner of x'\n",
        "    print(x)\n",
        "\n",
        "  inner()\n",
        "  print(x)\n",
        "outer()"
      ],
      "metadata": {
        "colab": {
          "base_uri": "https://localhost:8080/",
          "height": 332
        },
        "id": "2VmV9WOTMV_v",
        "outputId": "91f9a4ea-94fc-4661-f327-aa9bba44d135"
      },
      "execution_count": 30,
      "outputs": [
        {
          "output_type": "stream",
          "name": "stdout",
          "text": [
            "inner of x\n"
          ]
        },
        {
          "output_type": "error",
          "ename": "NameError",
          "evalue": "ignored",
          "traceback": [
            "\u001b[0;31m---------------------------------------------------------------------------\u001b[0m",
            "\u001b[0;31mNameError\u001b[0m                                 Traceback (most recent call last)",
            "\u001b[0;32m<ipython-input-30-d004ed5027de>\u001b[0m in \u001b[0;36m<module>\u001b[0;34m()\u001b[0m\n\u001b[1;32m      7\u001b[0m   \u001b[0minner\u001b[0m\u001b[0;34m(\u001b[0m\u001b[0;34m)\u001b[0m\u001b[0;34m\u001b[0m\u001b[0;34m\u001b[0m\u001b[0m\n\u001b[1;32m      8\u001b[0m   \u001b[0mprint\u001b[0m\u001b[0;34m(\u001b[0m\u001b[0mx\u001b[0m\u001b[0;34m)\u001b[0m\u001b[0;34m\u001b[0m\u001b[0;34m\u001b[0m\u001b[0m\n\u001b[0;32m----> 9\u001b[0;31m \u001b[0mouter\u001b[0m\u001b[0;34m(\u001b[0m\u001b[0;34m)\u001b[0m\u001b[0;34m\u001b[0m\u001b[0;34m\u001b[0m\u001b[0m\n\u001b[0m",
            "\u001b[0;32m<ipython-input-30-d004ed5027de>\u001b[0m in \u001b[0;36mouter\u001b[0;34m()\u001b[0m\n\u001b[1;32m      6\u001b[0m \u001b[0;34m\u001b[0m\u001b[0m\n\u001b[1;32m      7\u001b[0m   \u001b[0minner\u001b[0m\u001b[0;34m(\u001b[0m\u001b[0;34m)\u001b[0m\u001b[0;34m\u001b[0m\u001b[0;34m\u001b[0m\u001b[0m\n\u001b[0;32m----> 8\u001b[0;31m   \u001b[0mprint\u001b[0m\u001b[0;34m(\u001b[0m\u001b[0mx\u001b[0m\u001b[0;34m)\u001b[0m\u001b[0;34m\u001b[0m\u001b[0;34m\u001b[0m\u001b[0m\n\u001b[0m\u001b[1;32m      9\u001b[0m \u001b[0mouter\u001b[0m\u001b[0;34m(\u001b[0m\u001b[0;34m)\u001b[0m\u001b[0;34m\u001b[0m\u001b[0;34m\u001b[0m\u001b[0m\n",
            "\u001b[0;31mNameError\u001b[0m: name 'x' is not defined"
          ]
        }
      ]
    },
    {
      "cell_type": "code",
      "source": [
        "def outer():\n",
        "  x = 'Outer of x'\n",
        "  def inner():\n",
        "    nonlocal x\n",
        "    x = 'inner of x'\n",
        "    print(x)\n",
        "\n",
        "  inner()\n",
        "  print(x)\n",
        "outer()"
      ],
      "metadata": {
        "colab": {
          "base_uri": "https://localhost:8080/"
        },
        "id": "g8Fyy5W-NFOP",
        "outputId": "cdcaf174-5b52-462f-ea92-78ae52e2268f"
      },
      "execution_count": 31,
      "outputs": [
        {
          "output_type": "stream",
          "name": "stdout",
          "text": [
            "inner of x\n",
            "inner of x\n"
          ]
        }
      ]
    },
    {
      "cell_type": "code",
      "source": [
        "def add_fun():\n",
        "  v1 = 1\n",
        "  v2 = 2\n",
        "  return v1 + v2\n",
        "print(add_fun())\n"
      ],
      "metadata": {
        "colab": {
          "base_uri": "https://localhost:8080/"
        },
        "id": "Wn8Nx7JwNigy",
        "outputId": "25757c28-4455-4301-f1da-d0c7ddca2d9c"
      },
      "execution_count": 32,
      "outputs": [
        {
          "output_type": "stream",
          "name": "stdout",
          "text": [
            "3\n"
          ]
        }
      ]
    },
    {
      "cell_type": "code",
      "source": [
        "v2 = 2 \n",
        "def add_fun():\n",
        "  v1 = 1\n",
        "  v2 = 2\n",
        "  return v1 + v2\n",
        "print(add_fun())"
      ],
      "metadata": {
        "colab": {
          "base_uri": "https://localhost:8080/"
        },
        "id": "wD1oqiujN4dz",
        "outputId": "b06b4636-c598-49cf-998e-bfadcaa01ad3"
      },
      "execution_count": 33,
      "outputs": [
        {
          "output_type": "stream",
          "name": "stdout",
          "text": [
            "3\n"
          ]
        }
      ]
    },
    {
      "cell_type": "code",
      "source": [
        "v2 = 2\n",
        "def add_fun():\n",
        "  v1 = 1\n",
        "  return v1 + v2\n",
        "print(add_fun())"
      ],
      "metadata": {
        "colab": {
          "base_uri": "https://localhost:8080/"
        },
        "id": "f_FoodhLN_Gz",
        "outputId": "e507449f-c7a2-40ec-c1ad-06203921b388"
      },
      "execution_count": 34,
      "outputs": [
        {
          "output_type": "stream",
          "name": "stdout",
          "text": [
            "3\n"
          ]
        }
      ]
    },
    {
      "cell_type": "code",
      "source": [
        "def add_fun(v1):\n",
        "  def add_to_fun(v2):\n",
        "    return v1 + v2\n",
        "  return add_to_fun\n",
        "  \n",
        "add_to_fun = add_fun(5)\n",
        "print(add_to_fun(6))\n"
      ],
      "metadata": {
        "colab": {
          "base_uri": "https://localhost:8080/"
        },
        "id": "lzPb6WehOIiB",
        "outputId": "28485751-fd2f-43fe-9f29-04184420b487"
      },
      "execution_count": 38,
      "outputs": [
        {
          "output_type": "stream",
          "name": "stdout",
          "text": [
            "11\n"
          ]
        }
      ]
    },
    {
      "cell_type": "markdown",
      "source": [
        "## Inner Function Variable can acess the outer Function Variable. This concept is called Closure Function"
      ],
      "metadata": {
        "id": "QjS66mnePSJQ"
      }
    },
    {
      "cell_type": "code",
      "source": [
        "def outer_fun():\n",
        "  msg = 'Python is Fun'\n",
        "  def inner_fun():\n",
        "    print(msg)\n",
        "  return inner_fun()\n",
        "outer_fun()"
      ],
      "metadata": {
        "colab": {
          "base_uri": "https://localhost:8080/"
        },
        "id": "rX1z63rUPiMU",
        "outputId": "9e9c6395-8280-4497-8fd1-b11a78f93809"
      },
      "execution_count": 45,
      "outputs": [
        {
          "output_type": "stream",
          "name": "stdout",
          "text": [
            "Python is Fun\n"
          ]
        }
      ]
    },
    {
      "cell_type": "code",
      "source": [
        "def outer_fun():\n",
        "  msg = 'Python is Fun'\n",
        "  def inner_fun():\n",
        "    print(msg)\n",
        "  return inner_fun\n",
        "\n",
        "new_fun = outer_fun()\n",
        "new_fun()"
      ],
      "metadata": {
        "colab": {
          "base_uri": "https://localhost:8080/"
        },
        "id": "uGal5gYOQXny",
        "outputId": "8fb9133f-8ef8-4b2c-c509-7a0638d997d0"
      },
      "execution_count": 42,
      "outputs": [
        {
          "output_type": "stream",
          "name": "stdout",
          "text": [
            "Python is Fun\n"
          ]
        }
      ]
    },
    {
      "cell_type": "code",
      "source": [
        "def outer_fun():\n",
        "  msg = 'Python is Fun'\n",
        "  def inner_fun():\n",
        "    print(msg)\n",
        "  return inner_fun\n",
        "\n",
        "new_fun = outer_fun()\n",
        "print(new_fun.__name__)"
      ],
      "metadata": {
        "colab": {
          "base_uri": "https://localhost:8080/"
        },
        "id": "GV10mI6WQ9Wk",
        "outputId": "3bd80037-bea4-46bd-d16a-457903c1e705"
      },
      "execution_count": 47,
      "outputs": [
        {
          "output_type": "stream",
          "name": "stdout",
          "text": [
            "inner_fun\n"
          ]
        }
      ]
    },
    {
      "cell_type": "code",
      "source": [
        "def outer_fun():\n",
        "  msg = 'Python is Fun'\n",
        "  def inner_fun():\n",
        "    print(msg)\n",
        "  return inner_fun\n",
        "\n",
        "new_fun = outer_fun()\n",
        "new_fun()\n",
        "new_fun()\n",
        "new_fun()"
      ],
      "metadata": {
        "colab": {
          "base_uri": "https://localhost:8080/"
        },
        "id": "8uuY6RmZRQJl",
        "outputId": "53db183c-1f57-41b7-fc79-a9200c1af8ff"
      },
      "execution_count": 48,
      "outputs": [
        {
          "output_type": "stream",
          "name": "stdout",
          "text": [
            "Python is Fun\n",
            "Python is Fun\n",
            "Python is Fun\n"
          ]
        }
      ]
    },
    {
      "cell_type": "code",
      "source": [
        "def div_op(a,b):\n",
        "  return a/b\n",
        "div_op(5,2)"
      ],
      "metadata": {
        "colab": {
          "base_uri": "https://localhost:8080/"
        },
        "id": "j8fr42smSEyQ",
        "outputId": "39ba1b31-bdb4-4cdf-a414-cd91644f8922"
      },
      "execution_count": 53,
      "outputs": [
        {
          "output_type": "execute_result",
          "data": {
            "text/plain": [
              "2.5"
            ]
          },
          "metadata": {},
          "execution_count": 53
        }
      ]
    },
    {
      "cell_type": "code",
      "source": [
        "def div_op(a,b):\n",
        "  if b != 0:\n",
        "    return a/b\n",
        "  else:\n",
        "    print('The value of b is zero. Change it.')\n",
        "div_op(5,2)"
      ],
      "metadata": {
        "colab": {
          "base_uri": "https://localhost:8080/"
        },
        "id": "wRUHdLcxSToU",
        "outputId": "04fe09eb-fbb5-4a04-dc69-53d7f60097d1"
      },
      "execution_count": 55,
      "outputs": [
        {
          "output_type": "execute_result",
          "data": {
            "text/plain": [
              "2.5"
            ]
          },
          "metadata": {},
          "execution_count": 55
        }
      ]
    },
    {
      "cell_type": "code",
      "source": [
        "def check_div_op(func):\n",
        "  def inside(a,b):\n",
        "    if b == 0:\n",
        "      print('The value of b is zero. Change it.')\n",
        "      return\n",
        "    func(a, b)\n",
        "  return inside\n",
        "\n",
        "\n",
        "\n",
        "\n",
        "@check_div_op     #DecoratorFunction\n",
        "def div_op(a,b):\n",
        "  return a/b\n",
        "\n",
        "\n",
        "div_op = check_div_op(div_op)\n",
        "div_op(5, 0)"
      ],
      "metadata": {
        "colab": {
          "base_uri": "https://localhost:8080/"
        },
        "id": "G7vlLtB9TAIl",
        "outputId": "807f894f-03a0-4aeb-a6fc-1f4858438328"
      },
      "execution_count": 64,
      "outputs": [
        {
          "output_type": "stream",
          "name": "stdout",
          "text": [
            "The value of b is zero. Change it.\n"
          ]
        }
      ]
    },
    {
      "cell_type": "code",
      "source": [
        ""
      ],
      "metadata": {
        "id": "gqLLo7XIUKMn"
      },
      "execution_count": null,
      "outputs": []
    }
  ]
}