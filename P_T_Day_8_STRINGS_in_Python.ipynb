{
  "nbformat": 4,
  "nbformat_minor": 0,
  "metadata": {
    "colab": {
      "name": "P_T_Day_8_STRINGS_in_Python.ipynb",
      "provenance": [],
      "authorship_tag": "ABX9TyMK+o85gROsyBCvwN+WuHwf"
    },
    "kernelspec": {
      "name": "python3",
      "display_name": "Python 3"
    },
    "language_info": {
      "name": "python"
    }
  },
  "cells": [
    {
      "cell_type": "code",
      "execution_count": 2,
      "metadata": {
        "colab": {
          "base_uri": "https://localhost:8080/"
        },
        "id": "do2cDmvKhilz",
        "outputId": "36b2d1cf-0660-4bb4-bd79-96dbc816d75c"
      },
      "outputs": [
        {
          "output_type": "stream",
          "name": "stdout",
          "text": [
            "<class 'str'>\n",
            "<class 'str'>\n",
            "<class 'str'>\n",
            "<class 'str'>\n"
          ]
        }
      ],
      "source": [
        "a = 'Python'\n",
        "print(type(a))\n",
        "b = \"Python\"\n",
        "print(type(b))\n",
        "c = ''' Python '''\n",
        "print(type(c))\n",
        "d = \"\"\"Python\"\"\"\n",
        "print(type(d))"
      ]
    }
  ]
}