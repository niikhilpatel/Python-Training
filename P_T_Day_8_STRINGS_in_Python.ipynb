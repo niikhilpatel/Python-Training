{
  "nbformat": 4,
  "nbformat_minor": 0,
  "metadata": {
    "colab": {
      "name": "P_T_Day_8_STRINGS_in_Python.ipynb",
      "provenance": [],
      "collapsed_sections": [],
      "authorship_tag": "ABX9TyPx0635BsQPuDKvFJVpK+me"
    },
    "kernelspec": {
      "name": "python3",
      "display_name": "Python 3"
    },
    "language_info": {
      "name": "python"
    }
  },
  "cells": [
    {
      "cell_type": "markdown",
      "source": [
        "# STRINGS"
      ],
      "metadata": {
        "id": "T2wKIHi-ibg7"
      }
    },
    {
      "cell_type": "code",
      "execution_count": 9,
      "metadata": {
        "colab": {
          "base_uri": "https://localhost:8080/"
        },
        "id": "do2cDmvKhilz",
        "outputId": "cf6b0e43-8588-42a5-877b-72663c7c16b8"
      },
      "outputs": [
        {
          "output_type": "stream",
          "name": "stdout",
          "text": [
            "<class 'str'>\n",
            "<class 'str'>\n",
            "<class 'str'>\n",
            "<class 'str'>\n"
          ]
        }
      ],
      "source": [
        "a = 'Python'\n",
        "print(type(a))\n",
        "b = \"Python\"\n",
        "print(type(b))\n",
        "c = ''' Python '''\n",
        "print(type(c))\n",
        "d = \"\"\"Python\"\"\"\n",
        "print(type(d))"
      ]
    },
    {
      "cell_type": "code",
      "source": [
        "a = \"Python's Training is Fun\"\n",
        "print(a)"
      ],
      "metadata": {
        "id": "FIpIEtAVifhK",
        "colab": {
          "base_uri": "https://localhost:8080/"
        },
        "outputId": "5a165226-de89-4f04-e66b-01a3bec1d5b1"
      },
      "execution_count": 10,
      "outputs": [
        {
          "output_type": "stream",
          "name": "stdout",
          "text": [
            "Python's Training is Fun\n"
          ]
        }
      ]
    },
    {
      "cell_type": "code",
      "source": [
        "a = '''\"Python's Training is Fun\"'''\n",
        "print(a)"
      ],
      "metadata": {
        "colab": {
          "base_uri": "https://localhost:8080/"
        },
        "id": "0YZNcyO9dLY2",
        "outputId": "588eecc4-1813-427f-88e3-646286b1a593"
      },
      "execution_count": 11,
      "outputs": [
        {
          "output_type": "stream",
          "name": "stdout",
          "text": [
            "\"Python's Training is Fun\"\n"
          ]
        }
      ]
    },
    {
      "cell_type": "code",
      "source": [
        "# Single Line Comment is written using Hash\n",
        "'''Python\n",
        "Training\n",
        "Is\n",
        "Fun'''"
      ],
      "metadata": {
        "colab": {
          "base_uri": "https://localhost:8080/",
          "height": 36
        },
        "id": "nZw7fuXedNwe",
        "outputId": "63e1c6db-a5fe-46f3-94bb-4b89e9472efa"
      },
      "execution_count": 12,
      "outputs": [
        {
          "output_type": "execute_result",
          "data": {
            "text/plain": [
              "'Python\\nTraining\\nIs\\nFun'"
            ],
            "application/vnd.google.colaboratory.intrinsic+json": {
              "type": "string"
            }
          },
          "metadata": {},
          "execution_count": 12
        }
      ]
    },
    {
      "cell_type": "code",
      "source": [
        "'''Docstring: It is a docstring'''\n",
        "\n",
        "a = 'Python Training'\n",
        "print(a)"
      ],
      "metadata": {
        "colab": {
          "base_uri": "https://localhost:8080/"
        },
        "id": "cg2hY-HldQhs",
        "outputId": "05de3d7c-ef6d-4c38-b895-923a1623a954"
      },
      "execution_count": 13,
      "outputs": [
        {
          "output_type": "stream",
          "name": "stdout",
          "text": [
            "Python Training\n"
          ]
        }
      ]
    },
    {
      "cell_type": "code",
      "source": [
        "print(len(a)) # length of the string"
      ],
      "metadata": {
        "colab": {
          "base_uri": "https://localhost:8080/"
        },
        "id": "5LAPZEnydTbH",
        "outputId": "89ac2155-ef70-419b-cc8e-88b14d8b1d03"
      },
      "execution_count": 14,
      "outputs": [
        {
          "output_type": "stream",
          "name": "stdout",
          "text": [
            "15\n"
          ]
        }
      ]
    },
    {
      "cell_type": "code",
      "source": [
        "print(a.upper()) # uppercase"
      ],
      "metadata": {
        "colab": {
          "base_uri": "https://localhost:8080/"
        },
        "id": "huDCTgnldVlp",
        "outputId": "2d3c4593-833c-486d-82c0-66b0c2d02522"
      },
      "execution_count": 15,
      "outputs": [
        {
          "output_type": "stream",
          "name": "stdout",
          "text": [
            "PYTHON TRAINING\n"
          ]
        }
      ]
    },
    {
      "cell_type": "code",
      "source": [
        "print(a.lower()) # lowercase"
      ],
      "metadata": {
        "colab": {
          "base_uri": "https://localhost:8080/"
        },
        "id": "RhRYY75sdYWr",
        "outputId": "c93d375d-4057-4820-9c9a-3beec2849fd5"
      },
      "execution_count": 16,
      "outputs": [
        {
          "output_type": "stream",
          "name": "stdout",
          "text": [
            "python training\n"
          ]
        }
      ]
    },
    {
      "cell_type": "code",
      "source": [
        "a = 'Python Training'\n",
        "print(a)\n",
        "print(a.capitalize())"
      ],
      "metadata": {
        "colab": {
          "base_uri": "https://localhost:8080/"
        },
        "id": "opUBJX1tdanm",
        "outputId": "1f0fb813-82a3-4467-87f5-41af0dade116"
      },
      "execution_count": 17,
      "outputs": [
        {
          "output_type": "stream",
          "name": "stdout",
          "text": [
            "Python Training\n",
            "Python training\n"
          ]
        }
      ]
    },
    {
      "cell_type": "code",
      "source": [
        "a = 'Python training'\n",
        "print(a)\n",
        "print(a.title())"
      ],
      "metadata": {
        "colab": {
          "base_uri": "https://localhost:8080/"
        },
        "id": "J1fhUOxhdcnE",
        "outputId": "5241e094-dea2-49d1-c449-dd881da523cc"
      },
      "execution_count": 18,
      "outputs": [
        {
          "output_type": "stream",
          "name": "stdout",
          "text": [
            "Python training\n",
            "Python Training\n"
          ]
        }
      ]
    },
    {
      "cell_type": "code",
      "source": [
        "a = 'pYtHoN TrAiNiNg'\n",
        "print(a)\n",
        "print(a.swapcase())"
      ],
      "metadata": {
        "colab": {
          "base_uri": "https://localhost:8080/"
        },
        "id": "6kFAtD2tdehX",
        "outputId": "194210a9-36b1-4987-e57f-1ad5e2fef4a9"
      },
      "execution_count": 19,
      "outputs": [
        {
          "output_type": "stream",
          "name": "stdout",
          "text": [
            "pYtHoN TrAiNiNg\n",
            "PyThOn tRaInInG\n"
          ]
        }
      ]
    },
    {
      "cell_type": "code",
      "source": [
        "print(a.isdigit())"
      ],
      "metadata": {
        "colab": {
          "base_uri": "https://localhost:8080/"
        },
        "id": "IDgdWp0wdhJC",
        "outputId": "761d4681-3a77-4657-b15f-0900aa5fa6b9"
      },
      "execution_count": 20,
      "outputs": [
        {
          "output_type": "stream",
          "name": "stdout",
          "text": [
            "False\n"
          ]
        }
      ]
    },
    {
      "cell_type": "code",
      "source": [
        "a = '123'\n",
        "print(a)\n",
        "print(a.isdigit())"
      ],
      "metadata": {
        "colab": {
          "base_uri": "https://localhost:8080/"
        },
        "id": "o0eK7nPldjDn",
        "outputId": "16f56a35-6323-4465-bc76-fbb8dccadce0"
      },
      "execution_count": 21,
      "outputs": [
        {
          "output_type": "stream",
          "name": "stdout",
          "text": [
            "123\n",
            "True\n"
          ]
        }
      ]
    },
    {
      "cell_type": "code",
      "source": [
        "a = 'Python123'\n",
        "print(a)\n",
        "print(a.isdigit())"
      ],
      "metadata": {
        "colab": {
          "base_uri": "https://localhost:8080/"
        },
        "id": "ZRtX67dtdlIi",
        "outputId": "c22278bd-7465-4e2f-af17-76d61aaea8d4"
      },
      "execution_count": 22,
      "outputs": [
        {
          "output_type": "stream",
          "name": "stdout",
          "text": [
            "Python123\n",
            "False\n"
          ]
        }
      ]
    },
    {
      "cell_type": "code",
      "source": [
        "a = 'Python'\n",
        "print(a)\n",
        "print(a.isalpha())"
      ],
      "metadata": {
        "colab": {
          "base_uri": "https://localhost:8080/"
        },
        "id": "zlgGi4aYdlXE",
        "outputId": "2a9f9b9a-f626-469a-b1a5-1f14679b3e28"
      },
      "execution_count": 23,
      "outputs": [
        {
          "output_type": "stream",
          "name": "stdout",
          "text": [
            "Python\n",
            "True\n"
          ]
        }
      ]
    },
    {
      "cell_type": "code",
      "source": [
        "a = 'Python123'\n",
        "print(a)\n",
        "print(a.isalnum())"
      ],
      "metadata": {
        "colab": {
          "base_uri": "https://localhost:8080/"
        },
        "id": "Igpwn240dlfT",
        "outputId": "3dbb63ba-19e1-4b7f-e202-b45448dbcc65"
      },
      "execution_count": 24,
      "outputs": [
        {
          "output_type": "stream",
          "name": "stdout",
          "text": [
            "Python123\n",
            "True\n"
          ]
        }
      ]
    },
    {
      "cell_type": "code",
      "source": [
        "a = ''\n",
        "print(a.isspace())"
      ],
      "metadata": {
        "colab": {
          "base_uri": "https://localhost:8080/"
        },
        "id": "1ruP7uDBdllI",
        "outputId": "b00e46a5-9e7f-442b-d735-74ebca7ad532"
      },
      "execution_count": 25,
      "outputs": [
        {
          "output_type": "stream",
          "name": "stdout",
          "text": [
            "False\n"
          ]
        }
      ]
    },
    {
      "cell_type": "code",
      "source": [
        "a = 'Python123'\n",
        "print(a)\n",
        "print(a.startswith('P'))"
      ],
      "metadata": {
        "colab": {
          "base_uri": "https://localhost:8080/"
        },
        "id": "k16tRmomdloG",
        "outputId": "1de81fb5-fb76-49da-afea-7633d569ca3a"
      },
      "execution_count": 26,
      "outputs": [
        {
          "output_type": "stream",
          "name": "stdout",
          "text": [
            "Python123\n",
            "True\n"
          ]
        }
      ]
    },
    {
      "cell_type": "code",
      "source": [
        "a = 'Python is fun'\n",
        "print(a)\n",
        "print(a.endswith('fun'))"
      ],
      "metadata": {
        "colab": {
          "base_uri": "https://localhost:8080/"
        },
        "id": "IPlSmb-_dlqF",
        "outputId": "ed102141-9e27-4766-b4dc-d0ec9b53ae11"
      },
      "execution_count": 27,
      "outputs": [
        {
          "output_type": "stream",
          "name": "stdout",
          "text": [
            "Python is fun\n",
            "True\n"
          ]
        }
      ]
    },
    {
      "cell_type": "code",
      "source": [
        "a = 'Python is fun'\n",
        "print(a)\n",
        "print(a.find('fun'))"
      ],
      "metadata": {
        "colab": {
          "base_uri": "https://localhost:8080/"
        },
        "id": "9jR_eoPjdltL",
        "outputId": "1986d502-bf5d-46bc-ceb6-3fccfcec186e"
      },
      "execution_count": 28,
      "outputs": [
        {
          "output_type": "stream",
          "name": "stdout",
          "text": [
            "Python is fun\n",
            "10\n"
          ]
        }
      ]
    },
    {
      "cell_type": "code",
      "source": [
        "a = 'Python is fun'\n",
        "print(a)\n",
        "print(a.replace('Python','Javascript').lower())"
      ],
      "metadata": {
        "colab": {
          "base_uri": "https://localhost:8080/"
        },
        "id": "UeZNR4Xjdl1T",
        "outputId": "79dc08bb-644c-40c5-cbea-87ccd05e78fc"
      },
      "execution_count": 29,
      "outputs": [
        {
          "output_type": "stream",
          "name": "stdout",
          "text": [
            "Python is fun\n",
            "javascript is fun\n"
          ]
        }
      ]
    },
    {
      "cell_type": "code",
      "source": [
        "a = 'Python is fun'\n",
        "print(a)\n",
        "print(a.split())"
      ],
      "metadata": {
        "colab": {
          "base_uri": "https://localhost:8080/"
        },
        "id": "EtsaYkSzd2XC",
        "outputId": "027f9880-14ec-4631-b21d-694098df3b1b"
      },
      "execution_count": 30,
      "outputs": [
        {
          "output_type": "stream",
          "name": "stdout",
          "text": [
            "Python is fun\n",
            "['Python', 'is', 'fun']\n"
          ]
        }
      ]
    },
    {
      "cell_type": "code",
      "source": [
        "a = 'Python'\n",
        "print(a)\n",
        "print(a.split())"
      ],
      "metadata": {
        "colab": {
          "base_uri": "https://localhost:8080/"
        },
        "id": "Mv9BvmrKd2cf",
        "outputId": "ab31716c-346e-4b5b-e87f-eab9f24f0b9c"
      },
      "execution_count": 31,
      "outputs": [
        {
          "output_type": "stream",
          "name": "stdout",
          "text": [
            "Python\n",
            "['Python']\n"
          ]
        }
      ]
    },
    {
      "cell_type": "code",
      "source": [
        "a = 'Python is fun'\n",
        "print(a)\n",
        "print('-'.join(a))"
      ],
      "metadata": {
        "colab": {
          "base_uri": "https://localhost:8080/"
        },
        "id": "iMqfGIA5d2fJ",
        "outputId": "ac6a09e8-272b-41a9-bd15-13c41e5b7ede"
      },
      "execution_count": 32,
      "outputs": [
        {
          "output_type": "stream",
          "name": "stdout",
          "text": [
            "Python is fun\n",
            "P-y-t-h-o-n- -i-s- -f-u-n\n"
          ]
        }
      ]
    },
    {
      "cell_type": "markdown",
      "source": [
        "## Write a program to create a random list of numbers from 1 to 50. Prompt the user to select a number at runtime. Check how many numbers in the list are divisible by this user selected number."
      ],
      "metadata": {
        "id": "yxXGN1aod98M"
      }
    },
    {
      "cell_type": "code",
      "source": [
        "my_list = list(range(1,51))\n",
        "a = int(input('Enter a number:'))\n",
        "count = 0\n",
        "for elem in my_list:\n",
        "  if elem % a == 0:\n",
        "    count += 1\n",
        "print(count)"
      ],
      "metadata": {
        "colab": {
          "base_uri": "https://localhost:8080/"
        },
        "id": "a2vIFyJqd2iB",
        "outputId": "078dea4f-b785-460e-c601-3c62ebecd47f"
      },
      "execution_count": 33,
      "outputs": [
        {
          "output_type": "stream",
          "name": "stdout",
          "text": [
            "Enter a number:3\n",
            "16\n"
          ]
        }
      ]
    },
    {
      "cell_type": "code",
      "source": [
        "print(list(range(1,51)))"
      ],
      "metadata": {
        "colab": {
          "base_uri": "https://localhost:8080/"
        },
        "id": "2XYPi5S9d2k3",
        "outputId": "c489f950-14a7-4efc-e360-b95bfddaeadf"
      },
      "execution_count": 34,
      "outputs": [
        {
          "output_type": "stream",
          "name": "stdout",
          "text": [
            "[1, 2, 3, 4, 5, 6, 7, 8, 9, 10, 11, 12, 13, 14, 15, 16, 17, 18, 19, 20, 21, 22, 23, 24, 25, 26, 27, 28, 29, 30, 31, 32, 33, 34, 35, 36, 37, 38, 39, 40, 41, 42, 43, 44, 45, 46, 47, 48, 49, 50]\n"
          ]
        }
      ]
    },
    {
      "cell_type": "markdown",
      "source": [
        "## WAP to add all the digits from a given string"
      ],
      "metadata": {
        "id": "GDvrPTWeeI6o"
      }
    },
    {
      "cell_type": "code",
      "source": [
        "a = 'Python was introduced in 1989 and officially released in 1991'\n",
        "print(a.split())"
      ],
      "metadata": {
        "colab": {
          "base_uri": "https://localhost:8080/"
        },
        "id": "P0dy4GHwd2nc",
        "outputId": "7cefd3fc-e901-4f01-9c38-60d20f675263"
      },
      "execution_count": 35,
      "outputs": [
        {
          "output_type": "stream",
          "name": "stdout",
          "text": [
            "['Python', 'was', 'introduced', 'in', '1989', 'and', 'officially', 'released', 'in', '1991']\n"
          ]
        }
      ]
    },
    {
      "cell_type": "code",
      "source": [
        "sod = [int(i) for i in a.split() if i.isdigit()]\n",
        "print(sod)"
      ],
      "metadata": {
        "colab": {
          "base_uri": "https://localhost:8080/"
        },
        "id": "3WHT-P5ud2qI",
        "outputId": "2ff70342-ea36-49c9-b33b-6d7f9c3f6c73"
      },
      "execution_count": 36,
      "outputs": [
        {
          "output_type": "stream",
          "name": "stdout",
          "text": [
            "[1989, 1991]\n"
          ]
        }
      ]
    },
    {
      "cell_type": "code",
      "source": [
        "print(sum(sod))"
      ],
      "metadata": {
        "colab": {
          "base_uri": "https://localhost:8080/"
        },
        "id": "UublLOKnd2ta",
        "outputId": "b465bb1e-9af8-43cc-9ebd-78ce78cf1a2a"
      },
      "execution_count": 37,
      "outputs": [
        {
          "output_type": "stream",
          "name": "stdout",
          "text": [
            "3980\n"
          ]
        }
      ]
    },
    {
      "cell_type": "markdown",
      "source": [
        "##Python String Formatters"
      ],
      "metadata": {
        "id": "oQogpqgqeSZE"
      }
    },
    {
      "cell_type": "code",
      "source": [
        "name = 'Spiderman'\n",
        "place = 'NewYork'\n",
        "print('I am',name,'. I am from',place)"
      ],
      "metadata": {
        "colab": {
          "base_uri": "https://localhost:8080/"
        },
        "id": "ZaYTP7YWeUsH",
        "outputId": "39d9800a-4416-489a-e59a-0ec879420ea7"
      },
      "execution_count": 38,
      "outputs": [
        {
          "output_type": "stream",
          "name": "stdout",
          "text": [
            "I am Spiderman . I am from NewYork\n"
          ]
        }
      ]
    },
    {
      "cell_type": "code",
      "source": [
        "print(f'I am {name} and I am from {place}')"
      ],
      "metadata": {
        "colab": {
          "base_uri": "https://localhost:8080/"
        },
        "id": "hlO7iI1geXm3",
        "outputId": "b1a788a7-736d-4505-e4aa-808826d6d776"
      },
      "execution_count": 39,
      "outputs": [
        {
          "output_type": "stream",
          "name": "stdout",
          "text": [
            "I am Spiderman and I am from NewYork\n"
          ]
        }
      ]
    },
    {
      "cell_type": "code",
      "source": [
        "print(f'I am {place} and I am from {name}')"
      ],
      "metadata": {
        "colab": {
          "base_uri": "https://localhost:8080/"
        },
        "id": "n8xCX6OMeXqA",
        "outputId": "6eda18b3-a30b-43fe-9817-7cc75db17b37"
      },
      "execution_count": 40,
      "outputs": [
        {
          "output_type": "stream",
          "name": "stdout",
          "text": [
            "I am NewYork and I am from Spiderman\n"
          ]
        }
      ]
    },
    {
      "cell_type": "code",
      "source": [
        "print(f 'I am {name} and I am from {place}')"
      ],
      "metadata": {
        "colab": {
          "base_uri": "https://localhost:8080/",
          "height": 131
        },
        "id": "7mXwog-KeXsz",
        "outputId": "b87a2b59-92a6-434e-bbfa-459fb3517f69"
      },
      "execution_count": 42,
      "outputs": [
        {
          "output_type": "error",
          "ename": "SyntaxError",
          "evalue": "ignored",
          "traceback": [
            "\u001b[0;36m  File \u001b[0;32m\"<ipython-input-42-ff67fad423ee>\"\u001b[0;36m, line \u001b[0;32m1\u001b[0m\n\u001b[0;31m    print(f 'I am {name} and I am from {place}')\u001b[0m\n\u001b[0m                                              ^\u001b[0m\n\u001b[0;31mSyntaxError\u001b[0m\u001b[0;31m:\u001b[0m invalid syntax\n"
          ]
        }
      ]
    },
    {
      "cell_type": "code",
      "source": [
        "print('I am %s and I am from %s'%(name, place))"
      ],
      "metadata": {
        "colab": {
          "base_uri": "https://localhost:8080/"
        },
        "id": "Hl4-vUspeXvm",
        "outputId": "f4dc92f1-a9cf-48f1-bae4-e8771ff76670"
      },
      "execution_count": 43,
      "outputs": [
        {
          "output_type": "stream",
          "name": "stdout",
          "text": [
            "I am Spiderman and I am from NewYork\n"
          ]
        }
      ]
    },
    {
      "cell_type": "code",
      "source": [
        "print('I am {0} and I am from {1}'.format(name, place))"
      ],
      "metadata": {
        "colab": {
          "base_uri": "https://localhost:8080/"
        },
        "id": "Bg8Pik9oeXyq",
        "outputId": "85e1047b-f331-4aa2-dcca-7a7013cfba0e"
      },
      "execution_count": 44,
      "outputs": [
        {
          "output_type": "stream",
          "name": "stdout",
          "text": [
            "I am Spiderman and I am from NewYork\n"
          ]
        }
      ]
    },
    {
      "cell_type": "code",
      "source": [
        "print('I am {0} and I am from {1}'.format(place, name))"
      ],
      "metadata": {
        "colab": {
          "base_uri": "https://localhost:8080/"
        },
        "id": "13d2lKsveX1v",
        "outputId": "027692ad-7985-4a84-a6f5-b6e2244915bd"
      },
      "execution_count": 46,
      "outputs": [
        {
          "output_type": "stream",
          "name": "stdout",
          "text": [
            "I am NewYork and I am from Spiderman\n"
          ]
        }
      ]
    },
    {
      "cell_type": "code",
      "source": [
        "print('I am {1} and I am from {0}'.format(name, place))"
      ],
      "metadata": {
        "colab": {
          "base_uri": "https://localhost:8080/"
        },
        "id": "nuWfCBHHeX_N",
        "outputId": "96085662-3f43-468c-d894-30323ab224f8"
      },
      "execution_count": 45,
      "outputs": [
        {
          "output_type": "stream",
          "name": "stdout",
          "text": [
            "I am NewYork and I am from Spiderman\n"
          ]
        }
      ]
    },
    {
      "cell_type": "code",
      "source": [
        "\n",
        "print('I am {} and I am from {}'.format(name, place))"
      ],
      "metadata": {
        "colab": {
          "base_uri": "https://localhost:8080/"
        },
        "id": "9uQhXNrZept8",
        "outputId": "d69ff3f1-d6eb-46f6-be56-dc473a8c4641"
      },
      "execution_count": 47,
      "outputs": [
        {
          "output_type": "stream",
          "name": "stdout",
          "text": [
            "I am Spiderman and I am from NewYork\n"
          ]
        }
      ]
    },
    {
      "cell_type": "code",
      "source": [
        "\n",
        "print('I am {1} and I am from {2}'.format(name, place))"
      ],
      "metadata": {
        "colab": {
          "base_uri": "https://localhost:8080/",
          "height": 183
        },
        "id": "UDpO21BMepxB",
        "outputId": "5d95d7ef-7a3a-4371-ed85-2a3d65e5f0f5"
      },
      "execution_count": 48,
      "outputs": [
        {
          "output_type": "error",
          "ename": "IndexError",
          "evalue": "ignored",
          "traceback": [
            "\u001b[0;31m---------------------------------------------------------------------------\u001b[0m",
            "\u001b[0;31mIndexError\u001b[0m                                Traceback (most recent call last)",
            "\u001b[0;32m<ipython-input-48-ef726ef96d8a>\u001b[0m in \u001b[0;36m<module>\u001b[0;34m()\u001b[0m\n\u001b[1;32m      1\u001b[0m \u001b[0;34m\u001b[0m\u001b[0m\n\u001b[0;32m----> 2\u001b[0;31m \u001b[0mprint\u001b[0m\u001b[0;34m(\u001b[0m\u001b[0;34m'I am {1} and I am from {2}'\u001b[0m\u001b[0;34m.\u001b[0m\u001b[0mformat\u001b[0m\u001b[0;34m(\u001b[0m\u001b[0mname\u001b[0m\u001b[0;34m,\u001b[0m \u001b[0mplace\u001b[0m\u001b[0;34m)\u001b[0m\u001b[0;34m)\u001b[0m\u001b[0;34m\u001b[0m\u001b[0;34m\u001b[0m\u001b[0m\n\u001b[0m",
            "\u001b[0;31mIndexError\u001b[0m: tuple index out of range"
          ]
        }
      ]
    },
    {
      "cell_type": "code",
      "source": [
        "name = 'Tony'\n",
        "print(name.zfill(6)) # zfill --> zero fill"
      ],
      "metadata": {
        "colab": {
          "base_uri": "https://localhost:8080/"
        },
        "id": "WIsMwJ7uep0s",
        "outputId": "26ad9989-6f7c-41c4-f089-c2ea1bbfddf6"
      },
      "execution_count": 49,
      "outputs": [
        {
          "output_type": "stream",
          "name": "stdout",
          "text": [
            "00Tony\n"
          ]
        }
      ]
    },
    {
      "cell_type": "code",
      "source": [
        "name = 'Banner'\n",
        "print(name.zfill(10)) # zfill --> zero fill"
      ],
      "metadata": {
        "colab": {
          "base_uri": "https://localhost:8080/"
        },
        "id": "Ur2_NqI1ep3t",
        "outputId": "9262a4f3-b631-4251-8fd6-761fdc4db0ba"
      },
      "execution_count": 50,
      "outputs": [
        {
          "output_type": "stream",
          "name": "stdout",
          "text": [
            "0000Banner\n"
          ]
        }
      ]
    },
    {
      "cell_type": "code",
      "source": [
        "name = 'Banner'\n",
        "print(name.center(10)) # center --> center aligned"
      ],
      "metadata": {
        "colab": {
          "base_uri": "https://localhost:8080/"
        },
        "id": "txXzvW4Xep6u",
        "outputId": "66eda76c-19d7-474d-e3b8-578a73a4f257"
      },
      "execution_count": 51,
      "outputs": [
        {
          "output_type": "stream",
          "name": "stdout",
          "text": [
            "  Banner  \n"
          ]
        }
      ]
    },
    {
      "cell_type": "code",
      "source": [
        "name = 'Banner'\n",
        "print(name.center(10, '-')) # center --> center aligned"
      ],
      "metadata": {
        "colab": {
          "base_uri": "https://localhost:8080/"
        },
        "id": "aglJQivNe13p",
        "outputId": "8647e705-e832-4ab6-a7ef-5b7113eb6d79"
      },
      "execution_count": 52,
      "outputs": [
        {
          "output_type": "stream",
          "name": "stdout",
          "text": [
            "--Banner--\n"
          ]
        }
      ]
    },
    {
      "cell_type": "code",
      "source": [
        "name = 'Banner'\n",
        "print(name.rjust(10, '-')) # rjust --> justified right side"
      ],
      "metadata": {
        "colab": {
          "base_uri": "https://localhost:8080/"
        },
        "id": "2f-WByETe16O",
        "outputId": "025c60c8-ad21-4bcc-f93c-7956f08f0721"
      },
      "execution_count": 53,
      "outputs": [
        {
          "output_type": "stream",
          "name": "stdout",
          "text": [
            "----Banner\n"
          ]
        }
      ]
    },
    {
      "cell_type": "code",
      "source": [
        "name = 'Banner'\n",
        "print(name.ljust(10, '-')) # ljust --> justified left side"
      ],
      "metadata": {
        "colab": {
          "base_uri": "https://localhost:8080/"
        },
        "id": "W-49dfJ5e187",
        "outputId": "295a12db-ef5f-4064-875b-850c529f4974"
      },
      "execution_count": 54,
      "outputs": [
        {
          "output_type": "stream",
          "name": "stdout",
          "text": [
            "Banner----\n"
          ]
        }
      ]
    },
    {
      "cell_type": "code",
      "source": [
        "name = ' Banner '\n",
        "print(name)\n",
        "print(name.strip())"
      ],
      "metadata": {
        "colab": {
          "base_uri": "https://localhost:8080/"
        },
        "id": "K6wIvID_e2B-",
        "outputId": "2c08be78-7f87-41d3-b430-3068272e58c7"
      },
      "execution_count": 56,
      "outputs": [
        {
          "output_type": "stream",
          "name": "stdout",
          "text": [
            " Banner \n",
            "Banner\n"
          ]
        }
      ]
    },
    {
      "cell_type": "code",
      "source": [
        "name = 'Banner '\n",
        "print(name)\n",
        "print(name.rstrip())"
      ],
      "metadata": {
        "colab": {
          "base_uri": "https://localhost:8080/"
        },
        "id": "ckfS0Tcue2HD",
        "outputId": "d2f72858-6c7c-4675-c4ba-d7115090db92"
      },
      "execution_count": 57,
      "outputs": [
        {
          "output_type": "stream",
          "name": "stdout",
          "text": [
            "Banner \n",
            "Banner\n"
          ]
        }
      ]
    },
    {
      "cell_type": "code",
      "source": [
        "name = '  Banner'\n",
        "print(name)\n",
        "print(name.lstrip())"
      ],
      "metadata": {
        "colab": {
          "base_uri": "https://localhost:8080/"
        },
        "id": "ojXY0CDNfC3C",
        "outputId": "773773a7-b7a6-4d59-d6ef-d7b4d5ea0b4e"
      },
      "execution_count": 58,
      "outputs": [
        {
          "output_type": "stream",
          "name": "stdout",
          "text": [
            "  Banner\n",
            "Banner\n"
          ]
        }
      ]
    },
    {
      "cell_type": "markdown",
      "source": [
        "##Concatenation"
      ],
      "metadata": {
        "id": "9xTuTIVzfFXB"
      }
    },
    {
      "cell_type": "code",
      "source": [
        "name = 'Spiderman'\n",
        "place = 'NewYork'\n",
        "print(name + place)"
      ],
      "metadata": {
        "colab": {
          "base_uri": "https://localhost:8080/"
        },
        "id": "-38W-aZXfG7A",
        "outputId": "62acee82-4c8c-4a8c-e53f-eb11cc643b96"
      },
      "execution_count": 59,
      "outputs": [
        {
          "output_type": "stream",
          "name": "stdout",
          "text": [
            "SpidermanNewYork\n"
          ]
        }
      ]
    },
    {
      "cell_type": "code",
      "source": [
        "name = 'Spiderman'\n",
        "place = ' NewYork'\n",
        "print(name + place)"
      ],
      "metadata": {
        "colab": {
          "base_uri": "https://localhost:8080/"
        },
        "id": "EsHmPCHGfKT6",
        "outputId": "0050c248-ffa1-4e2d-da20-b2bf8963d155"
      },
      "execution_count": 60,
      "outputs": [
        {
          "output_type": "stream",
          "name": "stdout",
          "text": [
            "Spiderman NewYork\n"
          ]
        }
      ]
    },
    {
      "cell_type": "code",
      "source": [
        "name = 'Spiderman '\n",
        "place = 'NewYork'\n",
        "print(name + place)"
      ],
      "metadata": {
        "colab": {
          "base_uri": "https://localhost:8080/"
        },
        "id": "CYWE1tocfMTF",
        "outputId": "b5ff8863-bd22-4021-eec3-1dde44bbbb25"
      },
      "execution_count": 55,
      "outputs": [
        {
          "output_type": "stream",
          "name": "stdout",
          "text": [
            "Spiderman NewYork\n"
          ]
        }
      ]
    },
    {
      "cell_type": "code",
      "source": [
        "name = 'Peter ' 'Parker'\n",
        "print(name)"
      ],
      "metadata": {
        "colab": {
          "base_uri": "https://localhost:8080/"
        },
        "id": "f7PReiavfN8a",
        "outputId": "bcd9f7fa-7f31-4980-807d-3f170b3e42b4"
      },
      "execution_count": 61,
      "outputs": [
        {
          "output_type": "stream",
          "name": "stdout",
          "text": [
            "Peter Parker\n"
          ]
        }
      ]
    },
    {
      "cell_type": "code",
      "source": [
        "print('Tony' < 'Steve')"
      ],
      "metadata": {
        "colab": {
          "base_uri": "https://localhost:8080/"
        },
        "id": "h2lEB9sGfPwy",
        "outputId": "d98534b1-b9bb-4d91-d128-3548d4e07707"
      },
      "execution_count": 62,
      "outputs": [
        {
          "output_type": "stream",
          "name": "stdout",
          "text": [
            "False\n"
          ]
        }
      ]
    },
    {
      "cell_type": "code",
      "source": [
        "a = 'I am Ironman'\n",
        "print('I' not in a)"
      ],
      "metadata": {
        "colab": {
          "base_uri": "https://localhost:8080/"
        },
        "id": "wpHySZ9SfRqG",
        "outputId": "a54e6cee-d0d2-45ca-ac5c-a576ea484efb"
      },
      "execution_count": 63,
      "outputs": [
        {
          "output_type": "stream",
          "name": "stdout",
          "text": [
            "False\n"
          ]
        }
      ]
    },
    {
      "cell_type": "markdown",
      "source": [
        "##String Slicing"
      ],
      "metadata": {
        "id": "Nz2NHSeIfTjO"
      }
    },
    {
      "cell_type": "code",
      "source": [
        "a = 'I am Ironman'\n",
        "print(a[0])"
      ],
      "metadata": {
        "colab": {
          "base_uri": "https://localhost:8080/"
        },
        "id": "YMQjO03GfU4Z",
        "outputId": "54df14f1-615a-47fc-b990-0cd1ceaa4870"
      },
      "execution_count": 64,
      "outputs": [
        {
          "output_type": "stream",
          "name": "stdout",
          "text": [
            "I\n"
          ]
        }
      ]
    },
    {
      "cell_type": "code",
      "source": [
        "print(a[0:5])"
      ],
      "metadata": {
        "id": "NyTctjfAfYkm"
      },
      "execution_count": null,
      "outputs": []
    },
    {
      "cell_type": "code",
      "source": [
        "print(a[-1])"
      ],
      "metadata": {
        "colab": {
          "base_uri": "https://localhost:8080/"
        },
        "id": "K4fEj-q8fa65",
        "outputId": "44bd0cbd-47ad-4b68-d6d5-c4fc5613ba37"
      },
      "execution_count": 66,
      "outputs": [
        {
          "output_type": "stream",
          "name": "stdout",
          "text": [
            "n\n"
          ]
        }
      ]
    },
    {
      "cell_type": "code",
      "source": [
        "a[0] = 'Tony'\n",
        "print(a)"
      ],
      "metadata": {
        "colab": {
          "base_uri": "https://localhost:8080/",
          "height": 183
        },
        "id": "qXLh7mOifepw",
        "outputId": "3ea181fc-3eb1-498c-d27d-780340a6d617"
      },
      "execution_count": 67,
      "outputs": [
        {
          "output_type": "error",
          "ename": "TypeError",
          "evalue": "ignored",
          "traceback": [
            "\u001b[0;31m---------------------------------------------------------------------------\u001b[0m",
            "\u001b[0;31mTypeError\u001b[0m                                 Traceback (most recent call last)",
            "\u001b[0;32m<ipython-input-67-3b22d00e3188>\u001b[0m in \u001b[0;36m<module>\u001b[0;34m()\u001b[0m\n\u001b[0;32m----> 1\u001b[0;31m \u001b[0ma\u001b[0m\u001b[0;34m[\u001b[0m\u001b[0;36m0\u001b[0m\u001b[0;34m]\u001b[0m \u001b[0;34m=\u001b[0m \u001b[0;34m'Tony'\u001b[0m\u001b[0;34m\u001b[0m\u001b[0;34m\u001b[0m\u001b[0m\n\u001b[0m\u001b[1;32m      2\u001b[0m \u001b[0mprint\u001b[0m\u001b[0;34m(\u001b[0m\u001b[0ma\u001b[0m\u001b[0;34m)\u001b[0m\u001b[0;34m\u001b[0m\u001b[0;34m\u001b[0m\u001b[0m\n",
            "\u001b[0;31mTypeError\u001b[0m: 'str' object does not support item assignment"
          ]
        }
      ]
    }
  ]
}