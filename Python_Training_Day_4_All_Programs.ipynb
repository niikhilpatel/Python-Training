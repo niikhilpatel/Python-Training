{
  "nbformat": 4,
  "nbformat_minor": 0,
  "metadata": {
    "colab": {
      "name": "Python Training Day 4 All Programs.ipynb",
      "provenance": [],
      "collapsed_sections": [],
      "authorship_tag": "ABX9TyMgeI6RByvSvUwZzpHT6BJE",
      "include_colab_link": true
    },
    "kernelspec": {
      "name": "python3",
      "display_name": "Python 3"
    },
    "language_info": {
      "name": "python"
    }
  },
  "cells": [
    {
      "cell_type": "markdown",
      "metadata": {
        "id": "view-in-github",
        "colab_type": "text"
      },
      "source": [
        "<a href=\"https://colab.research.google.com/github/niikhilpatel/Python-Training/blob/main/Python_Training_Day_4_All_Programs.ipynb\" target=\"_parent\"><img src=\"https://colab.research.google.com/assets/colab-badge.svg\" alt=\"Open In Colab\"/></a>"
      ]
    },
    {
      "cell_type": "markdown",
      "source": [
        "#LIST ATTRIBUTES"
      ],
      "metadata": {
        "id": "rOVYeJWc9xKv"
      }
    },
    {
      "cell_type": "markdown",
      "source": [
        "Question to find similar Nunbers in the List"
      ],
      "metadata": {
        "id": "sOAu5i1ZCJKy"
      }
    },
    {
      "cell_type": "code",
      "source": [
        "a=[1,2,3,4]\n",
        "b=[4,3,1,5,6,7]\n",
        "c=[]\n",
        "for i in a:\n",
        " if i in b:\n",
        "  c.append(i)\n",
        "print (c)"
      ],
      "metadata": {
        "colab": {
          "base_uri": "https://localhost:8080/"
        },
        "id": "qFnSE_MRDlY2",
        "outputId": "49c07d09-1560-49de-c8d2-b45b2e7ce43b"
      },
      "execution_count": null,
      "outputs": [
        {
          "output_type": "stream",
          "name": "stdout",
          "text": [
            "[1, 3, 4]\n"
          ]
        }
      ]
    },
    {
      "cell_type": "markdown",
      "source": [
        ""
      ],
      "metadata": {
        "id": "C6FmhlXUELLf"
      }
    },
    {
      "cell_type": "code",
      "source": [
        "a = [1, 2, 3, 4]\n",
        "print(sum(a))"
      ],
      "metadata": {
        "colab": {
          "base_uri": "https://localhost:8080/"
        },
        "id": "lmZ5VudLD9Xc",
        "outputId": "d00235ea-42d0-4f0a-8bdc-5098d6e54ec6"
      },
      "execution_count": null,
      "outputs": [
        {
          "output_type": "stream",
          "name": "stdout",
          "text": [
            "10\n"
          ]
        }
      ]
    },
    {
      "cell_type": "code",
      "source": [
        "print(len(a))"
      ],
      "metadata": {
        "colab": {
          "base_uri": "https://localhost:8080/"
        },
        "id": "v9CLs8zoFTx4",
        "outputId": "f240ede0-4ae0-4db6-f31e-07f5a24df340"
      },
      "execution_count": null,
      "outputs": [
        {
          "output_type": "stream",
          "name": "stdout",
          "text": [
            "4\n"
          ]
        }
      ]
    },
    {
      "cell_type": "code",
      "source": [
        "Avg = sum(a) / len(a)\n",
        "print(Avg)"
      ],
      "metadata": {
        "colab": {
          "base_uri": "https://localhost:8080/"
        },
        "id": "BWFRV5qEFWnF",
        "outputId": "b92207a7-a01b-4d19-bdfc-67515013ee84"
      },
      "execution_count": null,
      "outputs": [
        {
          "output_type": "stream",
          "name": "stdout",
          "text": [
            "2.5\n"
          ]
        }
      ]
    },
    {
      "cell_type": "code",
      "source": [
        "a = [1, 2, 3, 4, 1, 5]\n",
        "print(a.count(1))"
      ],
      "metadata": {
        "colab": {
          "base_uri": "https://localhost:8080/"
        },
        "id": "ApvaEVgIFhMN",
        "outputId": "ef564375-4462-4280-ddbc-3a302c999380"
      },
      "execution_count": null,
      "outputs": [
        {
          "output_type": "stream",
          "name": "stdout",
          "text": [
            "2\n"
          ]
        }
      ]
    },
    {
      "cell_type": "code",
      "source": [
        "print(a.index(1))"
      ],
      "metadata": {
        "colab": {
          "base_uri": "https://localhost:8080/"
        },
        "id": "dvSmvzKLFddE",
        "outputId": "dae7d419-7ce7-4e71-9b10-192b579cd350"
      },
      "execution_count": null,
      "outputs": [
        {
          "output_type": "stream",
          "name": "stdout",
          "text": [
            "0\n"
          ]
        }
      ]
    },
    {
      "cell_type": "code",
      "source": [
        "for i in range(len(a)):\n",
        " print(i, a[i])"
      ],
      "metadata": {
        "colab": {
          "base_uri": "https://localhost:8080/"
        },
        "id": "qTEe0CFeGGP7",
        "outputId": "f5afbda5-f008-40c4-99e4-676e08e99edf"
      },
      "execution_count": null,
      "outputs": [
        {
          "output_type": "stream",
          "name": "stdout",
          "text": [
            "0 1\n",
            "1 2\n",
            "2 3\n",
            "3 4\n",
            "4 1\n",
            "5 5\n"
          ]
        }
      ]
    },
    {
      "cell_type": "code",
      "source": [
        "for i,j in enumerate(a):\n",
        " print(i,j)     # i print index nunber and j print index value"
      ],
      "metadata": {
        "colab": {
          "base_uri": "https://localhost:8080/"
        },
        "id": "ktD_ax41HA22",
        "outputId": "f7280ac7-222c-477d-b2a9-edce4b0dd045"
      },
      "execution_count": null,
      "outputs": [
        {
          "output_type": "stream",
          "name": "stdout",
          "text": [
            "0 1\n",
            "1 2\n",
            "2 3\n",
            "3 4\n",
            "4 1\n",
            "5 5\n"
          ]
        }
      ]
    },
    {
      "cell_type": "code",
      "source": [
        "b = [1, 3]\n",
        "for i in range(len(a)):\n",
        " if a[i] in b:\n",
        "  c.append(i) \n",
        "print(c)"
      ],
      "metadata": {
        "colab": {
          "base_uri": "https://localhost:8080/"
        },
        "id": "XJgEKrTFHpVq",
        "outputId": "aa555f1a-5380-440b-8c2a-b659b3e0bedd"
      },
      "execution_count": null,
      "outputs": [
        {
          "output_type": "stream",
          "name": "stdout",
          "text": [
            "[1, 3, 4, 0, 1, 2, 3, 4, 5, 0, 2, 4]\n"
          ]
        }
      ]
    },
    {
      "cell_type": "code",
      "source": [
        "a[0] = 1\n",
        "if i in b:\n",
        " c.append(c) \n",
        "print(c)"
      ],
      "metadata": {
        "colab": {
          "base_uri": "https://localhost:8080/"
        },
        "id": "S_2NIx_VJW7p",
        "outputId": "bc5170ca-e494-44b6-d43c-3c76d4d1fbbe"
      },
      "execution_count": null,
      "outputs": [
        {
          "output_type": "stream",
          "name": "stdout",
          "text": [
            "[1, 3, 4, 0, 1, 2, 3, 4, 5, 0, 2, 4]\n"
          ]
        }
      ]
    },
    {
      "cell_type": "markdown",
      "source": [
        "#STRINGS"
      ],
      "metadata": {
        "id": "BCs0QjXgJy7Z"
      }
    },
    {
      "cell_type": "markdown",
      "source": [
        "Formatting in Stings"
      ],
      "metadata": {
        "id": "Buf0XPKVJ3gq"
      }
    },
    {
      "cell_type": "code",
      "source": [
        "a='Python'\n",
        "b='java'\n",
        "print('{} is easy'.format(a))\n",
        "print('{0} is easy but {1} is tough'.format(a,b))\n",
        "print(f'{a} is easy')"
      ],
      "metadata": {
        "colab": {
          "base_uri": "https://localhost:8080/"
        },
        "id": "xZyqn0zeJ1db",
        "outputId": "2339d726-6f22-4919-9c61-d3e1bea5709f"
      },
      "execution_count": null,
      "outputs": [
        {
          "output_type": "stream",
          "name": "stdout",
          "text": [
            "Python is easy\n",
            "Python is easy but java is tough\n",
            "Python is easy\n"
          ]
        }
      ]
    },
    {
      "cell_type": "code",
      "source": [
        "a=' Python '\n",
        "print(a.strip())  # to remove both side spaces\n",
        "b='Python '\n",
        "print(b.rstrip())\n",
        "c=' Python'\n",
        "print(c.lstrip())\n",
        "d='Python is easy'\n",
        "print(d.startswith('Python'))\n",
        "e='Python is easy'\n",
        "print(e.endswith('easy'))\n",
        "f='Python is easy'\n",
        "print(f.isalnum())\n",
        "print(f.isdigit())\n",
        "print(f.isalpha())"
      ],
      "metadata": {
        "colab": {
          "base_uri": "https://localhost:8080/"
        },
        "id": "lgxkWhU2Nx22",
        "outputId": "b616dbde-eaa8-4f4b-98ec-48ba91639762"
      },
      "execution_count": null,
      "outputs": [
        {
          "output_type": "stream",
          "name": "stdout",
          "text": [
            "Python\n",
            "Python\n",
            "Python\n",
            "True\n",
            "True\n",
            "False\n",
            "False\n",
            "False\n"
          ]
        }
      ]
    },
    {
      "cell_type": "markdown",
      "source": [
        "Q. Find avg of list elements using list Comprehension. Input values should be user defined and space separated."
      ],
      "metadata": {
        "id": "JLuVjl2aopo-"
      }
    },
    {
      "cell_type": "code",
      "source": [
        "a = int(input('How many Subjects : ')) \n",
        "print ('Enter the subject marks space separated') \n",
        "marks = [int(i) for i in input().split(' ')[:a]]\n",
        "avg = sum(marks)/a\n",
        "print(avg)"
      ],
      "metadata": {
        "colab": {
          "base_uri": "https://localhost:8080/"
        },
        "id": "05uxvPn5op9L",
        "outputId": "d2be60d4-c8bb-4cec-8f38-f54e6a568752"
      },
      "execution_count": null,
      "outputs": [
        {
          "output_type": "stream",
          "name": "stdout",
          "text": [
            "How many Subjects : 2\n",
            "Enter the subject marks space separated\n",
            "22 35\n",
            "28.5\n"
          ]
        }
      ]
    }
  ]
}