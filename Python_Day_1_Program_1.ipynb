{
  "nbformat": 4,
  "nbformat_minor": 0,
  "metadata": {
    "colab": {
      "name": "Python Day 1.ipynb",
      "provenance": [],
      "collapsed_sections": [],
      "authorship_tag": "ABX9TyO5wgWAn9wnKFA1ZXBJlRPB",
      "include_colab_link": true
    },
    "kernelspec": {
      "name": "python3",
      "display_name": "Python 3"
    },
    "language_info": {
      "name": "python"
    }
  },
  "cells": [
    {
      "cell_type": "markdown",
      "metadata": {
        "id": "view-in-github",
        "colab_type": "text"
      },
      "source": [
        "<a href=\"https://colab.research.google.com/github/niikhilpatel/Python-Training/blob/main/Python_Day_1_Program_1.ipynb\" target=\"_parent\"><img src=\"https://colab.research.google.com/assets/colab-badge.svg\" alt=\"Open In Colab\"/></a>"
      ]
    },
    {
      "cell_type": "code",
      "execution_count": 1,
      "metadata": {
        "id": "p_DFKm-lN1K1"
      },
      "outputs": [],
      "source": [
        ""
      ]
    },
    {
      "cell_type": "markdown",
      "source": [
        "WAP to swap two numbers if the 1st number is greater than 2nd number\n"
      ],
      "metadata": {
        "id": "aJyPtVmJN4fz"
      }
    },
    {
      "cell_type": "code",
      "source": [
        "a = int(input('Enter 1st Number'))\n",
        "b = int(input('Enter 2nd Number'))\n",
        "if a > b :\n",
        "  a,b = b,a\n",
        "  print('The swapped numbers a =',a, ' and b =' ,b)\n",
        "else:\n",
        "  print('The swapped numbers a =',a, ' and b =' ,b)"
      ],
      "metadata": {
        "colab": {
          "base_uri": "https://localhost:8080/"
        },
        "id": "ChTvwLSOODwj",
        "outputId": "0aba4543-0b46-438d-da2e-81b775490760"
      },
      "execution_count": 2,
      "outputs": [
        {
          "output_type": "stream",
          "name": "stdout",
          "text": [
            "Enter 1st Number8\n",
            "Enter 2nd Number9\n",
            "The swapped numbers a = 8  and b = 9\n"
          ]
        }
      ]
    },
    {
      "cell_type": "markdown",
      "source": [
        ""
      ],
      "metadata": {
        "id": "RAV9QBkSN3qE"
      }
    }
  ]
}