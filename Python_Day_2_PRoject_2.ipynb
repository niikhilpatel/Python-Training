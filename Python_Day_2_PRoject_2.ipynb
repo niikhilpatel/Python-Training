{
  "nbformat": 4,
  "nbformat_minor": 0,
  "metadata": {
    "colab": {
      "name": "Untitled1.ipynb",
      "provenance": [],
      "authorship_tag": "ABX9TyOVLRqS9ncA7RGoe/Al4WJf",
      "include_colab_link": true
    },
    "kernelspec": {
      "name": "python3",
      "display_name": "Python 3"
    },
    "language_info": {
      "name": "python"
    }
  },
  "cells": [
    {
      "cell_type": "markdown",
      "metadata": {
        "id": "view-in-github",
        "colab_type": "text"
      },
      "source": [
        "<a href=\"https://colab.research.google.com/github/niikhilpatel/Python-Training/blob/main/Python_Day_2_PRoject_2.ipynb\" target=\"_parent\"><img src=\"https://colab.research.google.com/assets/colab-badge.svg\" alt=\"Open In Colab\"/></a>"
      ]
    },
    {
      "cell_type": "code",
      "execution_count": null,
      "metadata": {
        "id": "p-J2XeU4Wkx2"
      },
      "outputs": [],
      "source": [
        ""
      ]
    },
    {
      "cell_type": "code",
      "source": [
        "a = int(input('Enter 1st Number'))\n",
        "b = int(input('Enter 2nd Number'))\n",
        "if a > b :\n",
        "  a,b = b,a\n",
        "  print('The swapped numbers a =',a, ' and b =' ,b)\n",
        "else:\n",
        "  print('The swapped numbers a =',a, ' and b =' ,b)"
      ],
      "metadata": {
        "id": "uAcSBYbEWqp9"
      },
      "execution_count": null,
      "outputs": []
    },
    {
      "cell_type": "code",
      "source": [
        "a = int(input('Enter 1st Number'))\n",
        "b = int(input('Enter 2nd Number'))\n",
        "if a > b :\n",
        "  if a > 10:\n",
        "     if a, b = b, a\n",
        "     print('The swapped numbers a =',a, ' and b =' ,b)\n",
        "  else:\n",
        "     print('The unswapped numbers a =',a, ' and b =' ,b)\n",
        "else:\n",
        "     print('The unswapped numbers a =',a, ' and b =' ,b)"
      ],
      "metadata": {
        "colab": {
          "base_uri": "https://localhost:8080/",
          "height": 130
        },
        "id": "kT2KfwHzXFSL",
        "outputId": "d9661a49-4f74-4fde-cab6-ac34e747477e"
      },
      "execution_count": 6,
      "outputs": [
        {
          "output_type": "error",
          "ename": "SyntaxError",
          "evalue": "ignored",
          "traceback": [
            "\u001b[0;36m  File \u001b[0;32m\"<ipython-input-6-70fdbfa81b16>\"\u001b[0;36m, line \u001b[0;32m5\u001b[0m\n\u001b[0;31m    if a, b = b, a\u001b[0m\n\u001b[0m        ^\u001b[0m\n\u001b[0;31mSyntaxError\u001b[0m\u001b[0;31m:\u001b[0m invalid syntax\n"
          ]
        }
      ]
    }
  ]
}