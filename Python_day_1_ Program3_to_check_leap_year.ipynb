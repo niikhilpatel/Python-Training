{
  "nbformat": 4,
  "nbformat_minor": 0,
  "metadata": {
    "colab": {
      "name": "Untitled2.ipynb",
      "provenance": [],
      "authorship_tag": "ABX9TyMbhsIu3cgycQO0uF87qqhn",
      "include_colab_link": true
    },
    "kernelspec": {
      "name": "python3",
      "display_name": "Python 3"
    },
    "language_info": {
      "name": "python"
    }
  },
  "cells": [
    {
      "cell_type": "markdown",
      "metadata": {
        "id": "view-in-github",
        "colab_type": "text"
      },
      "source": [
        "<a href=\"https://colab.research.google.com/github/niikhilpatel/Python-Training/blob/main/Python_day_1_%20Program3_to_check_leap_year.ipynb\" target=\"_parent\"><img src=\"https://colab.research.google.com/assets/colab-badge.svg\" alt=\"Open In Colab\"/></a>"
      ]
    },
    {
      "cell_type": "code",
      "source": [
        "WAP  to check if a year is leap year or not?"
      ],
      "metadata": {
        "id": "RmXZRBEhZO6S"
      },
      "execution_count": null,
      "outputs": []
    },
    {
      "cell_type": "code",
      "source": [
        "y = int(input('Enter the Year: '))\n",
        "if ((y%4 == 0 and y%100 !=0) or (y%400 == 0)):\n",
        "  print('year',y,'is leap year')\n",
        "else:\n",
        "  print('year',y,'is not a leap year')"
      ],
      "metadata": {
        "colab": {
          "base_uri": "https://localhost:8080/"
        },
        "id": "iDjO_5acZfVj",
        "outputId": "11c7b410-71ea-4f46-e2f4-d12c68b39e6c"
      },
      "execution_count": 2,
      "outputs": [
        {
          "output_type": "stream",
          "name": "stdout",
          "text": [
            "Enter the Year: 2017\n",
            "year 2017 is not a leap year\n"
          ]
        }
      ]
    }
  ]
}