{
  "nbformat": 4,
  "nbformat_minor": 0,
  "metadata": {
    "colab": {
      "name": "Python Training Day 6 All Programs Functions in Python.ipynb",
      "provenance": [],
      "authorship_tag": "ABX9TyPfqL4Emk2HDdVhSZZj+N6w",
      "include_colab_link": true
    },
    "kernelspec": {
      "name": "python3",
      "display_name": "Python 3"
    },
    "language_info": {
      "name": "python"
    }
  },
  "cells": [
    {
      "cell_type": "markdown",
      "metadata": {
        "id": "view-in-github",
        "colab_type": "text"
      },
      "source": [
        "<a href=\"https://colab.research.google.com/github/niikhilpatel/Python-Training/blob/main/Python_Training_Day_6_All_Programs_Functions_in_Python.ipynb\" target=\"_parent\"><img src=\"https://colab.research.google.com/assets/colab-badge.svg\" alt=\"Open In Colab\"/></a>"
      ]
    },
    {
      "cell_type": "markdown",
      "source": [
        "# Function define :-> It is block of code which is excuted when call it as names of the function \n",
        "### Major Uses\n",
        "code Reusablity\n",
        "code no written usability\n"
      ],
      "metadata": {
        "id": "zEB5C4f7911z"
      }
    },
    {
      "cell_type": "markdown",
      "source": [
        "##Function Vs Methods"
      ],
      "metadata": {
        "id": "3K3Xnx8F-ZaE"
      }
    },
    {
      "cell_type": "code",
      "source": [
        "a = [4, 3, 2, 1]\n",
        "print(a)\n",
        "a.sort()\n",
        "print(a)"
      ],
      "metadata": {
        "colab": {
          "base_uri": "https://localhost:8080/"
        },
        "id": "unIB9HkR-eIf",
        "outputId": "c8cdfecf-4d84-4ee1-99f2-055808e493ef"
      },
      "execution_count": 1,
      "outputs": [
        {
          "output_type": "stream",
          "name": "stdout",
          "text": [
            "[4, 3, 2, 1]\n",
            "[1, 2, 3, 4]\n"
          ]
        }
      ]
    },
    {
      "cell_type": "code",
      "source": [
        "a = [4, 3, 2, 1]\n",
        "print(a)\n",
        "b = sorted(a)      # sorted is function\n",
        "print(b)"
      ],
      "metadata": {
        "colab": {
          "base_uri": "https://localhost:8080/"
        },
        "id": "u9djvPov-nZd",
        "outputId": "b326cf31-462c-4af1-9e54-6371379788e3"
      },
      "execution_count": 4,
      "outputs": [
        {
          "output_type": "stream",
          "name": "stdout",
          "text": [
            "[4, 3, 2, 1]\n",
            "[1, 2, 3, 4]\n"
          ]
        }
      ]
    },
    {
      "cell_type": "markdown",
      "source": [
        "All functions are method\n",
        "\n",
        "All method are not function\n",
        "\n",
        "method not return anything\n",
        "\n",
        "function will return something"
      ],
      "metadata": {
        "id": "boG71fGG_LUo"
      }
    },
    {
      "cell_type": "markdown",
      "source": [
        "## Create A Function"
      ],
      "metadata": {
        "id": "3McAGpe0_Zs3"
      }
    },
    {
      "cell_type": "code",
      "source": [
        "def sq(n):           # n is parameter and when will you asign a value thats called argument\n",
        "  return n**2 \n",
        "print(sq(3))"
      ],
      "metadata": {
        "colab": {
          "base_uri": "https://localhost:8080/"
        },
        "id": "z4HOXGb5_oC5",
        "outputId": "dc2a5756-556c-40ab-d1ed-b90eaf2343c6"
      },
      "execution_count": 6,
      "outputs": [
        {
          "output_type": "stream",
          "name": "stdout",
          "text": [
            "9\n"
          ]
        }
      ]
    },
    {
      "cell_type": "code",
      "source": [
        "def sq(n, a):\n",
        "  return n**2\n",
        "print(sq(3,5))"
      ],
      "metadata": {
        "colab": {
          "base_uri": "https://localhost:8080/"
        },
        "id": "LIIsR4fZAVSy",
        "outputId": "4fe428c0-6320-4ead-88b0-15a8fcafe3be"
      },
      "execution_count": 7,
      "outputs": [
        {
          "output_type": "stream",
          "name": "stdout",
          "text": [
            "9\n"
          ]
        }
      ]
    }
  ]
}