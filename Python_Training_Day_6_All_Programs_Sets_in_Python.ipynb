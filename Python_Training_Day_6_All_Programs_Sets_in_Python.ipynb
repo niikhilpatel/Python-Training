{
  "nbformat": 4,
  "nbformat_minor": 0,
  "metadata": {
    "colab": {
      "name": "Python Training Day 6 All Programs Sets in Python.ipynb",
      "provenance": [],
      "authorship_tag": "ABX9TyMAgKD5aOLx+tzk6uXKQawu",
      "include_colab_link": true
    },
    "kernelspec": {
      "name": "python3",
      "display_name": "Python 3"
    },
    "language_info": {
      "name": "python"
    }
  },
  "cells": [
    {
      "cell_type": "markdown",
      "metadata": {
        "id": "view-in-github",
        "colab_type": "text"
      },
      "source": [
        "<a href=\"https://colab.research.google.com/github/niikhilpatel/Python-Training/blob/main/Python_Training_Day_6_All_Programs_Sets_in_Python.ipynb\" target=\"_parent\"><img src=\"https://colab.research.google.com/assets/colab-badge.svg\" alt=\"Open In Colab\"/></a>"
      ]
    },
    {
      "cell_type": "markdown",
      "source": [
        "#SET"
      ],
      "metadata": {
        "id": "IhUXgYmKqLnU"
      }
    },
    {
      "cell_type": "markdown",
      "source": [
        "## Set is an unorder collection of elements which are unique"
      ],
      "metadata": {
        "id": "sinYWdpDrqH_"
      }
    },
    {
      "cell_type": "code",
      "source": [
        "hero_name = {'Tony', 'Steve', 'Thor'}\n",
        "print(hero_name)\n",
        "print(type(hero_name))"
      ],
      "metadata": {
        "colab": {
          "base_uri": "https://localhost:8080/"
        },
        "id": "9v7hAtehr199",
        "outputId": "9fbdcd9d-52be-4df3-b192-97380b721556"
      },
      "execution_count": 2,
      "outputs": [
        {
          "output_type": "stream",
          "name": "stdout",
          "text": [
            "{'Tony', 'Steve', 'Thor'}\n",
            "<class 'set'>\n"
          ]
        }
      ]
    },
    {
      "cell_type": "markdown",
      "source": [
        "# Empty Sets"
      ],
      "metadata": {
        "id": "HpJ2OCxNsMAD"
      }
    },
    {
      "cell_type": "code",
      "source": [
        "a = {}\n",
        "print(type(a))"
      ],
      "metadata": {
        "colab": {
          "base_uri": "https://localhost:8080/"
        },
        "id": "ge8bQRRhsPlS",
        "outputId": "f9fd5a3e-b18a-4d1b-bf07-1d456f39dc87"
      },
      "execution_count": 3,
      "outputs": [
        {
          "output_type": "stream",
          "name": "stdout",
          "text": [
            "<class 'dict'>\n"
          ]
        }
      ]
    },
    {
      "cell_type": "code",
      "source": [
        "a = set()\n",
        "print(type(a))"
      ],
      "metadata": {
        "colab": {
          "base_uri": "https://localhost:8080/"
        },
        "id": "vZgJkUfGsYxK",
        "outputId": "8789b3de-b643-4864-8f12-42b510fb3b82"
      },
      "execution_count": 4,
      "outputs": [
        {
          "output_type": "stream",
          "name": "stdout",
          "text": [
            "<class 'set'>\n"
          ]
        }
      ]
    },
    {
      "cell_type": "code",
      "source": [
        "hero_name = ['Tony', 'Steve', 'Thor']\n",
        "print(hero_name)\n",
        "print(type(hero_name))"
      ],
      "metadata": {
        "colab": {
          "base_uri": "https://localhost:8080/"
        },
        "id": "OY8aP_QHswj5",
        "outputId": "f1f491e3-2e85-4125-9651-6b2e8db82be5"
      },
      "execution_count": 5,
      "outputs": [
        {
          "output_type": "stream",
          "name": "stdout",
          "text": [
            "['Tony', 'Steve', 'Thor']\n",
            "<class 'list'>\n"
          ]
        }
      ]
    },
    {
      "cell_type": "code",
      "source": [
        "hero_name = {'Tony', 'Steve', 'Thor'}\n",
        "a = set(hero_name)\n",
        "print(a)\n",
        "print(type(a))"
      ],
      "metadata": {
        "colab": {
          "base_uri": "https://localhost:8080/"
        },
        "id": "DQNVeIYds6GQ",
        "outputId": "18fe27aa-74ed-40e5-d959-1f90b1fc7b25"
      },
      "execution_count": 6,
      "outputs": [
        {
          "output_type": "stream",
          "name": "stdout",
          "text": [
            "{'Tony', 'Steve', 'Thor'}\n",
            "<class 'set'>\n"
          ]
        }
      ]
    },
    {
      "cell_type": "code",
      "source": [
        "hero_name = 'Tony', 'Steve', 'Thor'\n",
        "a = set(hero_name)\n",
        "print(a)\n",
        "print(type(a))"
      ],
      "metadata": {
        "colab": {
          "base_uri": "https://localhost:8080/"
        },
        "id": "KVSKpiuBtKmk",
        "outputId": "1e496444-f6d5-4387-e33d-8cee1a61f103"
      },
      "execution_count": 7,
      "outputs": [
        {
          "output_type": "stream",
          "name": "stdout",
          "text": [
            "{'Tony', 'Steve', 'Thor'}\n",
            "<class 'set'>\n"
          ]
        }
      ]
    },
    {
      "cell_type": "code",
      "source": [
        "hero_name = {'Tony', 'Steve', 'Thor'}\n",
        "a = set(hero_name)"
      ],
      "metadata": {
        "id": "ck_TQ11BtT-e"
      },
      "execution_count": 8,
      "outputs": []
    },
    {
      "cell_type": "code",
      "source": [
        "hero_name = 'Tony', 'Steve', 'Thor', 'Tony'\n",
        "a = set(hero_name)"
      ],
      "metadata": {
        "id": "eORWAKGDtciZ"
      },
      "execution_count": null,
      "outputs": []
    },
    {
      "cell_type": "markdown",
      "source": [
        "## Operations on Set"
      ],
      "metadata": {
        "id": "7TPJkSz9ts0D"
      }
    },
    {
      "cell_type": "code",
      "source": [
        "hero_name = {'Tony', 'Steve', 'Thor'}\n",
        "len(hero_name)"
      ],
      "metadata": {
        "colab": {
          "base_uri": "https://localhost:8080/"
        },
        "id": "P76dqUHft0hr",
        "outputId": "7a743d30-5f1b-45e6-d2a5-c4d944a34d75"
      },
      "execution_count": 9,
      "outputs": [
        {
          "output_type": "execute_result",
          "data": {
            "text/plain": [
              "3"
            ]
          },
          "metadata": {},
          "execution_count": 9
        }
      ]
    },
    {
      "cell_type": "code",
      "source": [
        "'Steve' in hero_name"
      ],
      "metadata": {
        "colab": {
          "base_uri": "https://localhost:8080/"
        },
        "id": "TriAXQjEuIDH",
        "outputId": "6e2c2aff-83bd-4399-de31-1227eeb99d39"
      },
      "execution_count": 10,
      "outputs": [
        {
          "output_type": "execute_result",
          "data": {
            "text/plain": [
              "True"
            ]
          },
          "metadata": {},
          "execution_count": 10
        }
      ]
    },
    {
      "cell_type": "code",
      "source": [
        "'IronMan' in hero_name"
      ],
      "metadata": {
        "colab": {
          "base_uri": "https://localhost:8080/"
        },
        "id": "VGKNDqBauM2B",
        "outputId": "d042dffa-3a03-4229-8ee6-7bd20518a6c6"
      },
      "execution_count": 11,
      "outputs": [
        {
          "output_type": "execute_result",
          "data": {
            "text/plain": [
              "False"
            ]
          },
          "metadata": {},
          "execution_count": 11
        }
      ]
    },
    {
      "cell_type": "code",
      "source": [
        "'IronMan' not in hero_name"
      ],
      "metadata": {
        "colab": {
          "base_uri": "https://localhost:8080/"
        },
        "id": "VA0wR-FYuXr_",
        "outputId": "e0dbeb68-5a30-401b-dff9-290673389df1"
      },
      "execution_count": 12,
      "outputs": [
        {
          "output_type": "execute_result",
          "data": {
            "text/plain": [
              "True"
            ]
          },
          "metadata": {},
          "execution_count": 12
        }
      ]
    },
    {
      "cell_type": "markdown",
      "source": [
        "## Union in Sets"
      ],
      "metadata": {
        "id": "6cHmc9wQucAv"
      }
    },
    {
      "cell_type": "code",
      "source": [
        "hero_name = {'Tony', 'Steve', 'Thor'}\n",
        "villain_name = {'Thanos', 'Ultron', 'Vulture'}\n",
        "print(hero_name | villain_name)      #Union means joining or merge together all elements"
      ],
      "metadata": {
        "colab": {
          "base_uri": "https://localhost:8080/"
        },
        "id": "8_jjiir8ui4I",
        "outputId": "df9d7936-43ea-45e0-dad2-492c227b8e5b"
      },
      "execution_count": 13,
      "outputs": [
        {
          "output_type": "stream",
          "name": "stdout",
          "text": [
            "{'Tony', 'Ultron', 'Steve', 'Vulture', 'Thanos', 'Thor'}\n"
          ]
        }
      ]
    },
    {
      "cell_type": "code",
      "source": [
        "print(hero_name.union(villain_name))"
      ],
      "metadata": {
        "colab": {
          "base_uri": "https://localhost:8080/"
        },
        "id": "ypgy8A3HvEw4",
        "outputId": "2350512d-90fe-49ef-db0f-cada57e295b3"
      },
      "execution_count": 15,
      "outputs": [
        {
          "output_type": "stream",
          "name": "stdout",
          "text": [
            "{'Tony', 'Ultron', 'Steve', 'Vulture', 'Thanos', 'Thor'}\n"
          ]
        }
      ]
    },
    {
      "cell_type": "markdown",
      "source": [
        "## Is there any difference between union method and pipe operator"
      ],
      "metadata": {
        "id": "4I0cm4Q4vW0A"
      }
    },
    {
      "cell_type": "code",
      "source": [
        "print(hero_name | ('Thanos', 'Ultron', 'Vulture')"
      ],
      "metadata": {
        "colab": {
          "base_uri": "https://localhost:8080/",
          "height": 166
        },
        "id": "cJlMxBzkvj_r",
        "outputId": "35029d3e-aa6d-4bc8-ca92-26319db7ba50"
      },
      "execution_count": 16,
      "outputs": [
        {
          "output_type": "error",
          "ename": "TypeError",
          "evalue": "ignored",
          "traceback": [
            "\u001b[0;31m---------------------------------------------------------------------------\u001b[0m",
            "\u001b[0;31mTypeError\u001b[0m                                 Traceback (most recent call last)",
            "\u001b[0;32m<ipython-input-16-6774fe62d7e7>\u001b[0m in \u001b[0;36m<module>\u001b[0;34m()\u001b[0m\n\u001b[0;32m----> 1\u001b[0;31m \u001b[0mprint\u001b[0m\u001b[0;34m(\u001b[0m\u001b[0mhero_name\u001b[0m \u001b[0;34m|\u001b[0m \u001b[0;34m(\u001b[0m\u001b[0;34m'Thanos'\u001b[0m\u001b[0;34m,\u001b[0m \u001b[0;34m'Ultron'\u001b[0m\u001b[0;34m,\u001b[0m \u001b[0;34m'Vulture'\u001b[0m\u001b[0;34m)\u001b[0m\u001b[0;34m)\u001b[0m\u001b[0;34m\u001b[0m\u001b[0;34m\u001b[0m\u001b[0m\n\u001b[0m",
            "\u001b[0;31mTypeError\u001b[0m: unsupported operand type(s) for |: 'set' and 'tuple'"
          ]
        }
      ]
    },
    {
      "cell_type": "code",
      "source": [
        "print(hero_name.union(('Thanos', 'Ultron', 'Vulture')))"
      ],
      "metadata": {
        "colab": {
          "base_uri": "https://localhost:8080/"
        },
        "id": "yN47YvNnv2O_",
        "outputId": "db26507b-1110-4bb6-aca2-259dbf0d218a"
      },
      "execution_count": 19,
      "outputs": [
        {
          "output_type": "stream",
          "name": "stdout",
          "text": [
            "{'Tony', 'Ultron', 'Steve', 'Vulture', 'Thanos', 'Thor'}\n"
          ]
        }
      ]
    },
    {
      "cell_type": "markdown",
      "source": [
        "##Intersection in Sets"
      ],
      "metadata": {
        "id": "-mmzw2LrwRsu"
      }
    },
    {
      "cell_type": "code",
      "source": [
        "hero_name = {'Tony', 'Steve', 'Thor'}\n",
        "villain_name = {'Thanos', 'Ultron', 'Vulture'}\n",
        "print(hero_name & villain_name)           #Intersection   --> return the common value "
      ],
      "metadata": {
        "colab": {
          "base_uri": "https://localhost:8080/"
        },
        "id": "3ZyetyPgwVkQ",
        "outputId": "350c8f27-c434-4f43-9196-5ce5c94e3cdc"
      },
      "execution_count": 21,
      "outputs": [
        {
          "output_type": "stream",
          "name": "stdout",
          "text": [
            "set()\n"
          ]
        }
      ]
    },
    {
      "cell_type": "code",
      "source": [
        "hero_name = {'Tony', 'Steve', 'Thor'}\n",
        "villain_name = {'Thanos', 'Ultron', 'Vulture', 'Thor'}      # common elements will print\n",
        "print(hero_name & villain_name) "
      ],
      "metadata": {
        "colab": {
          "base_uri": "https://localhost:8080/"
        },
        "id": "l51sFsOlwrec",
        "outputId": "1b224677-b8f5-4225-b15e-3b5f6718493d"
      },
      "execution_count": 23,
      "outputs": [
        {
          "output_type": "stream",
          "name": "stdout",
          "text": [
            "{'Thor'}\n"
          ]
        }
      ]
    },
    {
      "cell_type": "code",
      "source": [
        "print(hero_name.intersection(villain_name))"
      ],
      "metadata": {
        "colab": {
          "base_uri": "https://localhost:8080/"
        },
        "id": "vYFAn5lAw3W6",
        "outputId": "b620ba16-ab6a-4266-ec0e-4878feae0061"
      },
      "execution_count": 24,
      "outputs": [
        {
          "output_type": "stream",
          "name": "stdout",
          "text": [
            "{'Thor'}\n"
          ]
        }
      ]
    },
    {
      "cell_type": "markdown",
      "source": [
        "## Difference in Sets  -->   Elements which are present in one set but not present in another set"
      ],
      "metadata": {
        "id": "VsTTGi3rxNXI"
      }
    },
    {
      "cell_type": "code",
      "source": [
        "hero_name = {'Tony', 'Steve', 'Thor'}\n",
        "villain_name = {'Thanos', 'Ultron', 'Vulture', 'Thor'} \n",
        "print(hero_name - villain_name)\n"
      ],
      "metadata": {
        "colab": {
          "base_uri": "https://localhost:8080/"
        },
        "id": "IPZktvVexZ1p",
        "outputId": "39168d10-e74e-49f8-857b-d0c7db489d15"
      },
      "execution_count": 26,
      "outputs": [
        {
          "output_type": "stream",
          "name": "stdout",
          "text": [
            "{'Tony', 'Steve'}\n"
          ]
        }
      ]
    },
    {
      "cell_type": "code",
      "source": [
        "hero_name = {'Tony', 'Steve', 'Thor'}\n",
        "villain_name = {'Thanos', 'Ultron', 'Vulture', 'Thor'} \n",
        "print(villain_name - hero_name)"
      ],
      "metadata": {
        "colab": {
          "base_uri": "https://localhost:8080/"
        },
        "id": "ky2kuapzxo9j",
        "outputId": "37aab18b-5c0a-441c-8da5-63f1262cdd61"
      },
      "execution_count": 27,
      "outputs": [
        {
          "output_type": "stream",
          "name": "stdout",
          "text": [
            "{'Vulture', 'Ultron', 'Thanos'}\n"
          ]
        }
      ]
    },
    {
      "cell_type": "markdown",
      "source": [
        "## issubset() in Sets"
      ],
      "metadata": {
        "id": "oJcaog33yND7"
      }
    },
    {
      "cell_type": "code",
      "source": [
        "hero_name = {'Tony', 'Steve', 'Thor'}\n",
        "villain_name = {'Thanos', 'Ultron', 'Vulture', 'Thor'} \n",
        "print(hero_name <= villain_name)\n"
      ],
      "metadata": {
        "colab": {
          "base_uri": "https://localhost:8080/"
        },
        "id": "-kLQziHEyUl7",
        "outputId": "d17484ea-8184-45ee-b834-399e60331852"
      },
      "execution_count": 28,
      "outputs": [
        {
          "output_type": "stream",
          "name": "stdout",
          "text": [
            "False\n"
          ]
        }
      ]
    },
    {
      "cell_type": "code",
      "source": [
        "hero_name = {'Tony', 'Steve', 'Thor'}\n",
        "villain_name = {'Thanos', 'Ultron', 'Vulture', 'Thor'} \n",
        "print(villain_name <= hero_name)\n"
      ],
      "metadata": {
        "colab": {
          "base_uri": "https://localhost:8080/"
        },
        "id": "Z6mcAIqFycF5",
        "outputId": "39118358-18d1-40ed-fc4d-fa765706cb54"
      },
      "execution_count": 31,
      "outputs": [
        {
          "output_type": "stream",
          "name": "stdout",
          "text": [
            "False\n"
          ]
        }
      ]
    },
    {
      "cell_type": "code",
      "source": [
        "iron_man_1 = {'Thor', 'Warmachine'}\n",
        "iron_man_2 = {'Tony', 'Warmachine', 'Natasha'}\n",
        "print(iron_man_1 <= iron_man_2)"
      ],
      "metadata": {
        "colab": {
          "base_uri": "https://localhost:8080/"
        },
        "id": "WDu3Z7Payq-c",
        "outputId": "3fafca30-40e4-4881-e765-979f0304747b"
      },
      "execution_count": 34,
      "outputs": [
        {
          "output_type": "stream",
          "name": "stdout",
          "text": [
            "False\n"
          ]
        }
      ]
    },
    {
      "cell_type": "code",
      "source": [
        "print(iron_man_2 <= iron_man_1)"
      ],
      "metadata": {
        "colab": {
          "base_uri": "https://localhost:8080/"
        },
        "id": "SYPEffIPzEcp",
        "outputId": "5c8fde7e-0297-4dc4-bb09-79030ef9d315"
      },
      "execution_count": 33,
      "outputs": [
        {
          "output_type": "stream",
          "name": "stdout",
          "text": [
            "False\n"
          ]
        }
      ]
    },
    {
      "cell_type": "markdown",
      "source": [
        "## issuperset() in Sets"
      ],
      "metadata": {
        "id": "Vlh03JxxzaVa"
      }
    },
    {
      "cell_type": "code",
      "source": [
        "print(iron_man_1 >= iron_man_2)"
      ],
      "metadata": {
        "colab": {
          "base_uri": "https://localhost:8080/"
        },
        "id": "QojmuWv2zeGA",
        "outputId": "8fbe6e1f-99e0-4fe2-be7d-bd6bbf7438a7"
      },
      "execution_count": 35,
      "outputs": [
        {
          "output_type": "stream",
          "name": "stdout",
          "text": [
            "False\n"
          ]
        }
      ]
    },
    {
      "cell_type": "code",
      "source": [
        "print(iron_man_2 >= iron_man_1)"
      ],
      "metadata": {
        "colab": {
          "base_uri": "https://localhost:8080/"
        },
        "id": "oS-wWEj5zkSU",
        "outputId": "5163c704-4bd9-48a3-d9b6-9a830d5d1edb"
      },
      "execution_count": 37,
      "outputs": [
        {
          "output_type": "stream",
          "name": "stdout",
          "text": [
            "False\n"
          ]
        }
      ]
    },
    {
      "cell_type": "markdown",
      "source": [
        "## isdisjoint() is Sets  --> gives output Truw when there is no no common elements"
      ],
      "metadata": {
        "id": "Lmlm9vcX0A0a"
      }
    },
    {
      "cell_type": "code",
      "source": [
        "iron_man_1 = {'Thor', 'Warmachine'}\n",
        "iron_man_2 = {'Tony', 'Warmachine', 'Natasha'}\n",
        "print(iron_man_1.isdisjoint(iron_man_2))"
      ],
      "metadata": {
        "colab": {
          "base_uri": "https://localhost:8080/"
        },
        "id": "OY-40UpN0LJS",
        "outputId": "98857526-efa6-42d4-ffde-3786e870f804"
      },
      "execution_count": 38,
      "outputs": [
        {
          "output_type": "stream",
          "name": "stdout",
          "text": [
            "False\n"
          ]
        }
      ]
    },
    {
      "cell_type": "code",
      "source": [
        "print(iron_man_2.isdisjoint(iron_man_1))"
      ],
      "metadata": {
        "colab": {
          "base_uri": "https://localhost:8080/"
        },
        "id": "wakaceZ90Z3T",
        "outputId": "c4993369-f946-4216-8985-b4cea7fbbcfb"
      },
      "execution_count": 39,
      "outputs": [
        {
          "output_type": "stream",
          "name": "stdout",
          "text": [
            "False\n"
          ]
        }
      ]
    },
    {
      "cell_type": "code",
      "source": [
        "hero_name = {'Tony', 'Warmachine', 'Natasha'}\n",
        "villain_name = {'Tony', 'Ultron', 'Vulture'}\n",
        "print(hero_name.isdisjoint(villain_name))"
      ],
      "metadata": {
        "colab": {
          "base_uri": "https://localhost:8080/"
        },
        "id": "GzyrF_3M0zyQ",
        "outputId": "4903d07c-54c9-4311-a8ba-86826c7953d1"
      },
      "execution_count": 42,
      "outputs": [
        {
          "output_type": "stream",
          "name": "stdout",
          "text": [
            "False\n"
          ]
        }
      ]
    },
    {
      "cell_type": "markdown",
      "source": [
        "## Symmetric Difference in Sets --> generate a set having elements which  are not common in either 1st or 2nd set"
      ],
      "metadata": {
        "id": "-G38c3ze1bPe"
      }
    },
    {
      "cell_type": "code",
      "source": [
        "print(hero_name.symmetric_difference(villain_name))"
      ],
      "metadata": {
        "colab": {
          "base_uri": "https://localhost:8080/"
        },
        "id": "lqSDxm1H1bXM",
        "outputId": "a83afc51-abad-4110-c6f8-1e637521a6ec"
      },
      "execution_count": 41,
      "outputs": [
        {
          "output_type": "stream",
          "name": "stdout",
          "text": [
            "{'Warmachine', 'Natasha', 'Ultron', 'Vulture'}\n"
          ]
        }
      ]
    },
    {
      "cell_type": "code",
      "source": [
        "print(hero_name ^ villain_name)"
      ],
      "metadata": {
        "colab": {
          "base_uri": "https://localhost:8080/"
        },
        "id": "UAXN9kdN12SD",
        "outputId": "575ec65f-57f9-4713-fc67-c3bd3e1b8bbf"
      },
      "execution_count": 44,
      "outputs": [
        {
          "output_type": "stream",
          "name": "stdout",
          "text": [
            "{'Warmachine', 'Natasha', 'Ultron', 'Vulture'}\n"
          ]
        }
      ]
    },
    {
      "cell_type": "markdown",
      "source": [
        "##Adding elements in set"
      ],
      "metadata": {
        "id": "35-dOSzk2Ni-"
      }
    },
    {
      "cell_type": "code",
      "source": [
        "hero_name = {'Tony', 'Steve', 'Thor'}\n",
        "hero_name.add\n"
      ],
      "metadata": {
        "id": "0o8pWkwW2H9Y"
      },
      "execution_count": null,
      "outputs": []
    },
    {
      "cell_type": "code",
      "source": [
        "hero_name.add(('Hawkeye', 'Natasha'))\n",
        "hero_name"
      ],
      "metadata": {
        "colab": {
          "base_uri": "https://localhost:8080/"
        },
        "id": "aZYtNjMV2dB8",
        "outputId": "5b5d8eb4-3d26-4ba2-8ea6-68c910388fda"
      },
      "execution_count": 46,
      "outputs": [
        {
          "output_type": "execute_result",
          "data": {
            "text/plain": [
              "{('Hawkeye', 'Natasha'), 'Natasha', 'Tony', 'Warmachine'}"
            ]
          },
          "metadata": {},
          "execution_count": 46
        }
      ]
    },
    {
      "cell_type": "markdown",
      "source": [
        "## Remove Elements from a set"
      ],
      "metadata": {
        "id": "rWeXgDur3V9m"
      }
    },
    {
      "cell_type": "code",
      "source": [
        "hero = {'Hulk', 'Steve', 'Thor', 'Tony'}\n",
        "hero.remove('Thor')\n",
        "hero"
      ],
      "metadata": {
        "colab": {
          "base_uri": "https://localhost:8080/"
        },
        "id": "BbKegvEj3dif",
        "outputId": "63ad2acd-e9d6-45dc-82f7-8e58f0896fb5"
      },
      "execution_count": 47,
      "outputs": [
        {
          "output_type": "execute_result",
          "data": {
            "text/plain": [
              "{'Hulk', 'Steve', 'Tony'}"
            ]
          },
          "metadata": {},
          "execution_count": 47
        }
      ]
    },
    {
      "cell_type": "code",
      "source": [
        "hero = {'Hulk', 'Steve', 'Tony'}\n",
        "hero.discard('Thor')\n",
        "hero"
      ],
      "metadata": {
        "colab": {
          "base_uri": "https://localhost:8080/"
        },
        "id": "fALwjd9z30pW",
        "outputId": "2c6d38cd-ad54-4376-ff9e-d581fe02626b"
      },
      "execution_count": 50,
      "outputs": [
        {
          "output_type": "execute_result",
          "data": {
            "text/plain": [
              "{'Hulk', 'Steve', 'Tony'}"
            ]
          },
          "metadata": {},
          "execution_count": 50
        }
      ]
    },
    {
      "cell_type": "code",
      "source": [
        "hero.pop()        #it will remove elements randomly\n",
        "hero"
      ],
      "metadata": {
        "colab": {
          "base_uri": "https://localhost:8080/"
        },
        "id": "mE8BSVk_4M-Y",
        "outputId": "8544ca30-cecd-48e4-b3a4-f8bfe57581f9"
      },
      "execution_count": 51,
      "outputs": [
        {
          "output_type": "execute_result",
          "data": {
            "text/plain": [
              "{'Hulk', 'Steve'}"
            ]
          },
          "metadata": {},
          "execution_count": 51
        }
      ]
    },
    {
      "cell_type": "code",
      "source": [
        "hero.pop()        #it will remove elements randomly\n",
        "hero"
      ],
      "metadata": {
        "colab": {
          "base_uri": "https://localhost:8080/"
        },
        "id": "kdHXPp6k4bc2",
        "outputId": "bae92d50-d46a-46e9-ae0b-4c0e1af62553"
      },
      "execution_count": 52,
      "outputs": [
        {
          "output_type": "execute_result",
          "data": {
            "text/plain": [
              "{'Hulk'}"
            ]
          },
          "metadata": {},
          "execution_count": 52
        }
      ]
    },
    {
      "cell_type": "code",
      "source": [
        "hero.pop()        #it will remove elements randomly\n",
        "hero"
      ],
      "metadata": {
        "colab": {
          "base_uri": "https://localhost:8080/"
        },
        "id": "AHqAgd4y4dTk",
        "outputId": "917a4bab-8af9-4dde-a4fa-01cc246857f7"
      },
      "execution_count": 53,
      "outputs": [
        {
          "output_type": "execute_result",
          "data": {
            "text/plain": [
              "set()"
            ]
          },
          "metadata": {},
          "execution_count": 53
        }
      ]
    },
    {
      "cell_type": "code",
      "source": [
        "hero = {'Hulk', 'Steve', 'Tony'}\n",
        "hero.clear()\n",
        "hero"
      ],
      "metadata": {
        "colab": {
          "base_uri": "https://localhost:8080/"
        },
        "id": "hmNPVnCy4fNL",
        "outputId": "848b4713-25a2-4596-d207-abbe88dfd54c"
      },
      "execution_count": 55,
      "outputs": [
        {
          "output_type": "execute_result",
          "data": {
            "text/plain": [
              "set()"
            ]
          },
          "metadata": {},
          "execution_count": 55
        }
      ]
    },
    {
      "cell_type": "code",
      "source": [
        "hero = {'Hulk', 'Steve', 'Tony'}\n",
        "hero.pop('Hulk')\n",
        "hero"
      ],
      "metadata": {
        "colab": {
          "base_uri": "https://localhost:8080/",
          "height": 200
        },
        "id": "Uyhe4OQp4v-E",
        "outputId": "55752605-d67e-42db-81ad-a9fa4a5fb641"
      },
      "execution_count": 57,
      "outputs": [
        {
          "output_type": "error",
          "ename": "TypeError",
          "evalue": "ignored",
          "traceback": [
            "\u001b[0;31m---------------------------------------------------------------------------\u001b[0m",
            "\u001b[0;31mTypeError\u001b[0m                                 Traceback (most recent call last)",
            "\u001b[0;32m<ipython-input-57-8cf389d49c9e>\u001b[0m in \u001b[0;36m<module>\u001b[0;34m()\u001b[0m\n\u001b[1;32m      1\u001b[0m \u001b[0mhero\u001b[0m \u001b[0;34m=\u001b[0m \u001b[0;34m{\u001b[0m\u001b[0;34m'Hulk'\u001b[0m\u001b[0;34m,\u001b[0m \u001b[0;34m'Steve'\u001b[0m\u001b[0;34m,\u001b[0m \u001b[0;34m'Tony'\u001b[0m\u001b[0;34m}\u001b[0m\u001b[0;34m\u001b[0m\u001b[0;34m\u001b[0m\u001b[0m\n\u001b[0;32m----> 2\u001b[0;31m \u001b[0mhero\u001b[0m\u001b[0;34m.\u001b[0m\u001b[0mpop\u001b[0m\u001b[0;34m(\u001b[0m\u001b[0;34m'Hulk'\u001b[0m\u001b[0;34m)\u001b[0m\u001b[0;34m\u001b[0m\u001b[0;34m\u001b[0m\u001b[0m\n\u001b[0m\u001b[1;32m      3\u001b[0m \u001b[0mhero\u001b[0m\u001b[0;34m\u001b[0m\u001b[0;34m\u001b[0m\u001b[0m\n",
            "\u001b[0;31mTypeError\u001b[0m: pop() takes no arguments (1 given)"
          ]
        }
      ]
    },
    {
      "cell_type": "markdown",
      "source": [
        "## Augmented Assignment Operator"
      ],
      "metadata": {
        "id": "_VwIWP8s5Dvf"
      }
    },
    {
      "cell_type": "code",
      "source": [
        "# a = a + b\n",
        "# a += b \n"
      ],
      "metadata": {
        "id": "fVhAKYwu5K0h"
      },
      "execution_count": 58,
      "outputs": []
    },
    {
      "cell_type": "code",
      "source": [
        "# a = a | b \n",
        "# a |= b "
      ],
      "metadata": {
        "id": "aGN8F8B55c3i"
      },
      "execution_count": 60,
      "outputs": []
    },
    {
      "cell_type": "code",
      "source": [
        "# a.union(b) --> a.union_update(b)\n",
        "# a.intersection(b)  --> a.intersection_update(b)"
      ],
      "metadata": {
        "id": "hiYKs0J15xqq"
      },
      "execution_count": null,
      "outputs": []
    },
    {
      "cell_type": "markdown",
      "source": [
        "## Frozen Sets"
      ],
      "metadata": {
        "id": "9-Y9K9qF6Fsi"
      }
    },
    {
      "cell_type": "code",
      "source": [
        "hero = frozenset(['Hulk', 'Steve', 'Tony'])\n",
        "print(hero)\n",
        "print(type(hero))"
      ],
      "metadata": {
        "colab": {
          "base_uri": "https://localhost:8080/"
        },
        "id": "41PHxEDj6I43",
        "outputId": "0e7edc3c-fdb7-4f91-e341-0e58e0897d04"
      },
      "execution_count": 62,
      "outputs": [
        {
          "output_type": "stream",
          "name": "stdout",
          "text": [
            "frozenset({'Tony', 'Steve', 'Hulk'})\n",
            "<class 'frozenset'>\n"
          ]
        }
      ]
    },
    {
      "cell_type": "code",
      "source": [
        "hero.pop()\n",
        "hero"
      ],
      "metadata": {
        "colab": {
          "base_uri": "https://localhost:8080/",
          "height": 183
        },
        "id": "AvWD_WBg6qZ-",
        "outputId": "f9090ddd-45fa-4d3f-ead2-9bb262827fd9"
      },
      "execution_count": 63,
      "outputs": [
        {
          "output_type": "error",
          "ename": "AttributeError",
          "evalue": "ignored",
          "traceback": [
            "\u001b[0;31m---------------------------------------------------------------------------\u001b[0m",
            "\u001b[0;31mAttributeError\u001b[0m                            Traceback (most recent call last)",
            "\u001b[0;32m<ipython-input-63-5e05cea85b48>\u001b[0m in \u001b[0;36m<module>\u001b[0;34m()\u001b[0m\n\u001b[0;32m----> 1\u001b[0;31m \u001b[0mhero\u001b[0m\u001b[0;34m.\u001b[0m\u001b[0mpop\u001b[0m\u001b[0;34m(\u001b[0m\u001b[0;34m)\u001b[0m\u001b[0;34m\u001b[0m\u001b[0;34m\u001b[0m\u001b[0m\n\u001b[0m\u001b[1;32m      2\u001b[0m \u001b[0mhero\u001b[0m\u001b[0;34m\u001b[0m\u001b[0;34m\u001b[0m\u001b[0m\n",
            "\u001b[0;31mAttributeError\u001b[0m: 'frozenset' object has no attribute 'pop'"
          ]
        }
      ]
    },
    {
      "cell_type": "code",
      "source": [
        "hero.clear()\n",
        "hero"
      ],
      "metadata": {
        "colab": {
          "base_uri": "https://localhost:8080/",
          "height": 183
        },
        "id": "wnuhrAQV62I-",
        "outputId": "bde9c018-c478-45e9-d95c-407bbbaf02ac"
      },
      "execution_count": 64,
      "outputs": [
        {
          "output_type": "error",
          "ename": "AttributeError",
          "evalue": "ignored",
          "traceback": [
            "\u001b[0;31m---------------------------------------------------------------------------\u001b[0m",
            "\u001b[0;31mAttributeError\u001b[0m                            Traceback (most recent call last)",
            "\u001b[0;32m<ipython-input-64-b590bd682be5>\u001b[0m in \u001b[0;36m<module>\u001b[0;34m()\u001b[0m\n\u001b[0;32m----> 1\u001b[0;31m \u001b[0mhero\u001b[0m\u001b[0;34m.\u001b[0m\u001b[0mclear\u001b[0m\u001b[0;34m(\u001b[0m\u001b[0;34m)\u001b[0m\u001b[0;34m\u001b[0m\u001b[0;34m\u001b[0m\u001b[0m\n\u001b[0m\u001b[1;32m      2\u001b[0m \u001b[0mhero\u001b[0m\u001b[0;34m\u001b[0m\u001b[0;34m\u001b[0m\u001b[0m\n",
            "\u001b[0;31mAttributeError\u001b[0m: 'frozenset' object has no attribute 'clear'"
          ]
        }
      ]
    },
    {
      "cell_type": "code",
      "source": [
        "hero.add('Tony')        #you cannot do it that\n",
        "hero"
      ],
      "metadata": {
        "colab": {
          "base_uri": "https://localhost:8080/",
          "height": 183
        },
        "id": "y6wSWsVZ67E6",
        "outputId": "77f03735-c586-4192-899a-a00895d78f32"
      },
      "execution_count": 65,
      "outputs": [
        {
          "output_type": "error",
          "ename": "AttributeError",
          "evalue": "ignored",
          "traceback": [
            "\u001b[0;31m---------------------------------------------------------------------------\u001b[0m",
            "\u001b[0;31mAttributeError\u001b[0m                            Traceback (most recent call last)",
            "\u001b[0;32m<ipython-input-65-64be2f43c274>\u001b[0m in \u001b[0;36m<module>\u001b[0;34m()\u001b[0m\n\u001b[0;32m----> 1\u001b[0;31m \u001b[0mhero\u001b[0m\u001b[0;34m.\u001b[0m\u001b[0madd\u001b[0m\u001b[0;34m(\u001b[0m\u001b[0;34m'Tony'\u001b[0m\u001b[0;34m)\u001b[0m\u001b[0;34m\u001b[0m\u001b[0;34m\u001b[0m\u001b[0m\n\u001b[0m\u001b[1;32m      2\u001b[0m \u001b[0mhero\u001b[0m\u001b[0;34m\u001b[0m\u001b[0;34m\u001b[0m\u001b[0m\n",
            "\u001b[0;31mAttributeError\u001b[0m: 'frozenset' object has no attribute 'add'"
          ]
        }
      ]
    },
    {
      "cell_type": "code",
      "source": [
        "hero = frozenset(['Hulk', 'Steve', 'Tony'])\n",
        "print(hero)\n",
        "new_hero = {'Strange', 'Spiderman'}\n",
        "hero |= new_hero\n",
        "print(hero)"
      ],
      "metadata": {
        "colab": {
          "base_uri": "https://localhost:8080/"
        },
        "id": "cJKPcIjJ7Cwu",
        "outputId": "ab46aad6-25b0-449c-d9a5-7b96beab4017"
      },
      "execution_count": 66,
      "outputs": [
        {
          "output_type": "stream",
          "name": "stdout",
          "text": [
            "frozenset({'Tony', 'Steve', 'Hulk'})\n",
            "frozenset({'Tony', 'Steve', 'Hulk', 'Strange', 'Spiderman'})\n"
          ]
        }
      ]
    },
    {
      "cell_type": "code",
      "source": [
        "hero = frozenset(['Hulk', 'Steve', 'Tony'])\n",
        "print(id(hero))\n",
        "new_hero = {'Strange', 'Spiderman'}\n",
        "hero |= new_hero\n",
        "print(id(hero))"
      ],
      "metadata": {
        "colab": {
          "base_uri": "https://localhost:8080/"
        },
        "id": "r1XdXbxq8EbS",
        "outputId": "57e5a961-7afb-4aca-8fb8-f07d3b543036"
      },
      "execution_count": 67,
      "outputs": [
        {
          "output_type": "stream",
          "name": "stdout",
          "text": [
            "140016422123952\n",
            "140016422122752\n"
          ]
        }
      ]
    },
    {
      "cell_type": "markdown",
      "source": [
        "## Set Comprehension"
      ],
      "metadata": {
        "id": "1nT8ewXq8Xh1"
      }
    },
    {
      "cell_type": "code",
      "source": [
        "num = [4, 3, 2, 1, 1, 5, 3, 4]\n",
        "set_com = {i for i in num}\n",
        "print(set_com)"
      ],
      "metadata": {
        "colab": {
          "base_uri": "https://localhost:8080/"
        },
        "id": "o0JS5jc08b80",
        "outputId": "a078f711-c282-4946-ad1b-d60198dcdb30"
      },
      "execution_count": 68,
      "outputs": [
        {
          "output_type": "stream",
          "name": "stdout",
          "text": [
            "{1, 2, 3, 4, 5}\n"
          ]
        }
      ]
    }
  ]
}