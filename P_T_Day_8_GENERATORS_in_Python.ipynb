{
  "nbformat": 4,
  "nbformat_minor": 0,
  "metadata": {
    "colab": {
      "name": "P T Day 8 GENERATORS in Python.ipynb",
      "provenance": [],
      "authorship_tag": "ABX9TyNOvrtB8Z+p7rYKETRkPrqP"
    },
    "kernelspec": {
      "name": "python3",
      "display_name": "Python 3"
    },
    "language_info": {
      "name": "python"
    }
  },
  "cells": [
    {
      "cell_type": "markdown",
      "source": [
        "#GENERATORS"
      ],
      "metadata": {
        "id": "5rBSCzJSSQY0"
      }
    },
    {
      "cell_type": "markdown",
      "source": [
        "## A Generators is a function                          iterator  "
      ],
      "metadata": {
        "id": "PgN9yV5oSUd8"
      }
    },
    {
      "cell_type": "code",
      "source": [
        "x = (1,2,3,4,5)\n",
        "x_com = (i*i for i in x)\n",
        "print(x_com)"
      ],
      "metadata": {
        "colab": {
          "base_uri": "https://localhost:8080/"
        },
        "id": "yVoW9cg1SaOF",
        "outputId": "30875f5d-45cf-4cec-9af9-ffad16d4ff5f"
      },
      "execution_count": 1,
      "outputs": [
        {
          "output_type": "stream",
          "name": "stdout",
          "text": [
            "<generator object <genexpr> at 0x7fdcfd4fab50>\n"
          ]
        }
      ]
    },
    {
      "cell_type": "code",
      "source": [
        "def sq_num(my_list):\n",
        "  res = []\n",
        "  for i in my_list:\n",
        "    res.append(i*i)\n",
        "    return res\n",
        "\n",
        "my_list = [1,2,3,4]\n",
        "print(sq_num(my_list))"
      ],
      "metadata": {
        "colab": {
          "base_uri": "https://localhost:8080/"
        },
        "id": "XHFs7D4iSsz8",
        "outputId": "c0601301-ab29-492a-8a03-a110c7de583c"
      },
      "execution_count": 3,
      "outputs": [
        {
          "output_type": "stream",
          "name": "stdout",
          "text": [
            "[1]\n"
          ]
        }
      ]
    },
    {
      "cell_type": "code",
      "source": [
        "def sq_num(my_list):\n",
        "  res = []\n",
        "  for i in my_list:\n",
        "    yield(i*i)\n",
        "\n",
        "my_list = sq_num([1,2,3,4])\n",
        "print(next(my_list))\n",
        "print(next(my_list))\n",
        "print(next(my_list))\n"
      ],
      "metadata": {
        "colab": {
          "base_uri": "https://localhost:8080/"
        },
        "id": "LvTDHqdYTkU6",
        "outputId": "4e8470d8-f8b1-4700-898f-bd33b1ffc4f2"
      },
      "execution_count": 8,
      "outputs": [
        {
          "output_type": "stream",
          "name": "stdout",
          "text": [
            "1\n",
            "4\n",
            "9\n"
          ]
        }
      ]
    },
    {
      "cell_type": "code",
      "source": [
        "def sq_num(my_list):\n",
        "  res = []\n",
        "  for i in my_list:\n",
        "    yield(i*i)\n",
        "\n",
        "my_list = sq_num([1,2,3,4])\n",
        "for x in my_list:\n",
        "  print(x, end = ' ')"
      ],
      "metadata": {
        "colab": {
          "base_uri": "https://localhost:8080/"
        },
        "id": "QD9DkGXEU2Qj",
        "outputId": "4c89f6b0-4433-4144-cdcc-833c5851595a"
      },
      "execution_count": 9,
      "outputs": [
        {
          "output_type": "stream",
          "name": "stdout",
          "text": [
            "1 4 9 16 "
          ]
        }
      ]
    },
    {
      "cell_type": "code",
      "source": [
        "x = (1,2,3,4,5)\n",
        "x_com = (i*i for i in x)\n",
        "for y in x_com:\n",
        "  print(y, end = ' ')"
      ],
      "metadata": {
        "colab": {
          "base_uri": "https://localhost:8080/"
        },
        "id": "9ibI3VnfVNmG",
        "outputId": "510f0431-6abf-4eec-de4a-011addca1c6b"
      },
      "execution_count": 10,
      "outputs": [
        {
          "output_type": "stream",
          "name": "stdout",
          "text": [
            "1 4 9 16 25 "
          ]
        }
      ]
    },
    {
      "cell_type": "code",
      "source": [
        "x = (1,2,3,4,5)\n",
        "x_com = (i*i for i in x)\n",
        "print(list(x_com))"
      ],
      "metadata": {
        "colab": {
          "base_uri": "https://localhost:8080/"
        },
        "id": "D1ZdGPdjVfn5",
        "outputId": "4e64269d-3954-49a2-c611-579cb8c1bda7"
      },
      "execution_count": 12,
      "outputs": [
        {
          "output_type": "stream",
          "name": "stdout",
          "text": [
            "[1, 4, 9, 16, 25]\n"
          ]
        }
      ]
    },
    {
      "cell_type": "markdown",
      "source": [
        "##FIBONACCI SERIES using Generator"
      ],
      "metadata": {
        "id": "QjmRyEC7WFlL"
      }
    },
    {
      "cell_type": "code",
      "source": [
        "def fib_series(a):\n",
        "  x, y = 1, 0 \n",
        "  while True:\n",
        "    z = x+y\n",
        "    if z <a:\n",
        "      yield z \n",
        "      z, y = y, x\n",
        "    else:\n",
        "      break\n",
        "\n",
        "gen_fib = fib_series(10)\n",
        "print(next(gen_fib))\n",
        "print(next(gen_fib))\n",
        "print(next(gen_fib))\n",
        "print(next(gen_fib))"
      ],
      "metadata": {
        "colab": {
          "base_uri": "https://localhost:8080/"
        },
        "id": "fddeZI1jWEqV",
        "outputId": "976771d0-49e8-4159-d66f-74ae3ccbdc1f"
      },
      "execution_count": 15,
      "outputs": [
        {
          "output_type": "stream",
          "name": "stdout",
          "text": [
            "1\n",
            "2\n",
            "2\n",
            "2\n"
          ]
        }
      ]
    }
  ]
}